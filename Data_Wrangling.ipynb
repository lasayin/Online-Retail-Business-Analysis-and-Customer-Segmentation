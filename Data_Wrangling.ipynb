{
 "cells": [
  {
   "cell_type": "markdown",
   "metadata": {
    "toc": true
   },
   "source": [
    "<h1>Table of Contents<span class=\"tocSkip\"></span></h1>\n",
    "<div class=\"toc\"><ul class=\"toc-item\"><li><span><a href=\"#Load-Data\" data-toc-modified-id=\"Load-Data-1\"><span class=\"toc-item-num\">1&nbsp;&nbsp;</span>Load Data</a></span><ul class=\"toc-item\"><li><span><a href=\"#Load-and-Concatenate-data\" data-toc-modified-id=\"Load-and-Concatenate-data-1.1\"><span class=\"toc-item-num\">1.1&nbsp;&nbsp;</span>Load and Concatenate data</a></span></li><li><span><a href=\"#Duplicated-Entries\" data-toc-modified-id=\"Duplicated-Entries-1.2\"><span class=\"toc-item-num\">1.2&nbsp;&nbsp;</span>Duplicated Entries</a></span></li><li><span><a href=\"#Country\" data-toc-modified-id=\"Country-1.3\"><span class=\"toc-item-num\">1.3&nbsp;&nbsp;</span>Country</a></span></li></ul></li><li><span><a href=\"#Missing-Values\" data-toc-modified-id=\"Missing-Values-2\"><span class=\"toc-item-num\">2&nbsp;&nbsp;</span>Missing Values</a></span><ul class=\"toc-item\"><li><span><a href=\"#Missing-Description\" data-toc-modified-id=\"Missing-Description-2.1\"><span class=\"toc-item-num\">2.1&nbsp;&nbsp;</span>Missing Description</a></span></li><li><span><a href=\"#Missing-Customer-ID\" data-toc-modified-id=\"Missing-Customer-ID-2.2\"><span class=\"toc-item-num\">2.2&nbsp;&nbsp;</span>Missing Customer ID</a></span></li></ul></li><li><span><a href=\"#Numerical-Features\" data-toc-modified-id=\"Numerical-Features-3\"><span class=\"toc-item-num\">3&nbsp;&nbsp;</span>Numerical Features</a></span><ul class=\"toc-item\"><li><span><a href=\"#Price\" data-toc-modified-id=\"Price-3.1\"><span class=\"toc-item-num\">3.1&nbsp;&nbsp;</span>Price</a></span></li><li><span><a href=\"#Quantity\" data-toc-modified-id=\"Quantity-3.2\"><span class=\"toc-item-num\">3.2&nbsp;&nbsp;</span>Quantity</a></span></li><li><span><a href=\"#Revenue\" data-toc-modified-id=\"Revenue-3.3\"><span class=\"toc-item-num\">3.3&nbsp;&nbsp;</span>Revenue</a></span></li></ul></li><li><span><a href=\"#Time-Series\" data-toc-modified-id=\"Time-Series-4\"><span class=\"toc-item-num\">4&nbsp;&nbsp;</span>Time Series</a></span></li><li><span><a href=\"#Stock-Code-and-Description\" data-toc-modified-id=\"Stock-Code-and-Description-5\"><span class=\"toc-item-num\">5&nbsp;&nbsp;</span>Stock Code and Description</a></span><ul class=\"toc-item\"><li><span><a href=\"#Unique-Stock-Code-and-Description\" data-toc-modified-id=\"Unique-Stock-Code-and-Description-5.1\"><span class=\"toc-item-num\">5.1&nbsp;&nbsp;</span>Unique Stock Code and Description</a></span></li><li><span><a href=\"#Same-or-SImilar-Stock-Codes-with-Different-Description\" data-toc-modified-id=\"Same-or-SImilar-Stock-Codes-with-Different-Description-5.2\"><span class=\"toc-item-num\">5.2&nbsp;&nbsp;</span>Same or SImilar Stock Codes with Different Description</a></span></li><li><span><a href=\"#Same-Description-with-Different-Description\" data-toc-modified-id=\"Same-Description-with-Different-Description-5.3\"><span class=\"toc-item-num\">5.3&nbsp;&nbsp;</span>Same Description with Different Description</a></span></li><li><span><a href=\"#Abnormal-Stack-Code\" data-toc-modified-id=\"Abnormal-Stack-Code-5.4\"><span class=\"toc-item-num\">5.4&nbsp;&nbsp;</span>Abnormal Stack Code</a></span></li></ul></li><li><span><a href=\"#Save-Files\" data-toc-modified-id=\"Save-Files-6\"><span class=\"toc-item-num\">6&nbsp;&nbsp;</span>Save Files</a></span></li><li><span><a href=\"#Summary\" data-toc-modified-id=\"Summary-7\"><span class=\"toc-item-num\">7&nbsp;&nbsp;</span>Summary</a></span></li></ul></div>"
   ]
  },
  {
   "cell_type": "markdown",
   "metadata": {},
   "source": [
    "This [Online Retail II data set](https://archive.ics.uci.edu/ml/datasets/Online+Retail+II) contains all the transactions occurring for a UK-based and registered, non-store online retail between 12/01/2009 and 12/09/2011.The company mainly sells unique all-occasion gift-ware. Many customers of the company are wholesalers."
   ]
  },
  {
   "cell_type": "markdown",
   "metadata": {},
   "source": [
    "The last part, i.e., stock code and description, can be used for market basket analysis, which was not included in this project."
   ]
  },
  {
   "cell_type": "code",
   "execution_count": 1,
   "metadata": {
    "ExecuteTime": {
     "end_time": "2022-03-02T23:30:00.431279Z",
     "start_time": "2022-03-02T23:29:57.761303Z"
    }
   },
   "outputs": [],
   "source": [
    "import pandas as pd\n",
    "import numpy as np\n",
    "import matplotlib\n",
    "import matplotlib.pyplot as plt\n",
    "from datetime import datetime as dt\n",
    "import datetime\n",
    "import missingno as msno\n",
    "import seaborn as sns"
   ]
  },
  {
   "cell_type": "markdown",
   "metadata": {},
   "source": [
    "## Load Data"
   ]
  },
  {
   "cell_type": "markdown",
   "metadata": {},
   "source": [
    "There are two sheets in the original excel file covering two different periods, 12/01/2009 through 12/10/2010, and 12/01/2010 through 12/9/2011."
   ]
  },
  {
   "cell_type": "markdown",
   "metadata": {},
   "source": [
    "### Load and Concatenate data"
   ]
  },
  {
   "cell_type": "code",
   "execution_count": 2,
   "metadata": {
    "ExecuteTime": {
     "end_time": "2022-03-02T23:33:41.503340Z",
     "start_time": "2022-03-02T23:30:00.443902Z"
    }
   },
   "outputs": [],
   "source": [
    "# Load two sheets as a dict of DataFrame\n",
    "file_path = 'RawData/online_retail_II.xlsx'\n",
    "two_sheets = pd.read_excel(file_path, sheet_name=None)"
   ]
  },
  {
   "cell_type": "code",
   "execution_count": 3,
   "metadata": {
    "ExecuteTime": {
     "end_time": "2022-03-02T23:33:41.650748Z",
     "start_time": "2022-03-02T23:33:41.506260Z"
    }
   },
   "outputs": [],
   "source": [
    "# Concatenate two sheets\n",
    "retail = pd.concat(two_sheets, ignore_index=True)"
   ]
  },
  {
   "cell_type": "code",
   "execution_count": 4,
   "metadata": {
    "ExecuteTime": {
     "end_time": "2022-03-02T23:33:42.559754Z",
     "start_time": "2022-03-02T23:33:41.653175Z"
    }
   },
   "outputs": [
    {
     "name": "stdout",
     "output_type": "stream",
     "text": [
      "<class 'pandas.core.frame.DataFrame'>\n",
      "RangeIndex: 1067371 entries, 0 to 1067370\n",
      "Data columns (total 8 columns):\n",
      " #   Column       Non-Null Count    Dtype         \n",
      "---  ------       --------------    -----         \n",
      " 0   Invoice      1067371 non-null  object        \n",
      " 1   StockCode    1067371 non-null  object        \n",
      " 2   Description  1062989 non-null  object        \n",
      " 3   Quantity     1067371 non-null  int64         \n",
      " 4   InvoiceDate  1067371 non-null  datetime64[ns]\n",
      " 5   Price        1067371 non-null  float64       \n",
      " 6   Customer ID  824364 non-null   float64       \n",
      " 7   Country      1067371 non-null  object        \n",
      "dtypes: datetime64[ns](1), float64(2), int64(1), object(4)\n",
      "memory usage: 65.1+ MB\n"
     ]
    }
   ],
   "source": [
    "retail.info()"
   ]
  },
  {
   "cell_type": "code",
   "execution_count": 5,
   "metadata": {
    "ExecuteTime": {
     "end_time": "2022-03-02T23:33:42.584976Z",
     "start_time": "2022-03-02T23:33:42.563462Z"
    }
   },
   "outputs": [
    {
     "data": {
      "text/html": [
       "<div>\n",
       "<style scoped>\n",
       "    .dataframe tbody tr th:only-of-type {\n",
       "        vertical-align: middle;\n",
       "    }\n",
       "\n",
       "    .dataframe tbody tr th {\n",
       "        vertical-align: top;\n",
       "    }\n",
       "\n",
       "    .dataframe thead th {\n",
       "        text-align: right;\n",
       "    }\n",
       "</style>\n",
       "<table border=\"1\" class=\"dataframe\">\n",
       "  <thead>\n",
       "    <tr style=\"text-align: right;\">\n",
       "      <th></th>\n",
       "      <th>Invoice</th>\n",
       "      <th>StockCode</th>\n",
       "      <th>Description</th>\n",
       "      <th>Quantity</th>\n",
       "      <th>InvoiceDate</th>\n",
       "      <th>Price</th>\n",
       "      <th>Customer ID</th>\n",
       "      <th>Country</th>\n",
       "    </tr>\n",
       "  </thead>\n",
       "  <tbody>\n",
       "    <tr>\n",
       "      <th>0</th>\n",
       "      <td>489434</td>\n",
       "      <td>85048</td>\n",
       "      <td>15CM CHRISTMAS GLASS BALL 20 LIGHTS</td>\n",
       "      <td>12</td>\n",
       "      <td>2009-12-01 07:45:00</td>\n",
       "      <td>6.95</td>\n",
       "      <td>13085.0</td>\n",
       "      <td>United Kingdom</td>\n",
       "    </tr>\n",
       "    <tr>\n",
       "      <th>1</th>\n",
       "      <td>489434</td>\n",
       "      <td>79323P</td>\n",
       "      <td>PINK CHERRY LIGHTS</td>\n",
       "      <td>12</td>\n",
       "      <td>2009-12-01 07:45:00</td>\n",
       "      <td>6.75</td>\n",
       "      <td>13085.0</td>\n",
       "      <td>United Kingdom</td>\n",
       "    </tr>\n",
       "    <tr>\n",
       "      <th>2</th>\n",
       "      <td>489434</td>\n",
       "      <td>79323W</td>\n",
       "      <td>WHITE CHERRY LIGHTS</td>\n",
       "      <td>12</td>\n",
       "      <td>2009-12-01 07:45:00</td>\n",
       "      <td>6.75</td>\n",
       "      <td>13085.0</td>\n",
       "      <td>United Kingdom</td>\n",
       "    </tr>\n",
       "    <tr>\n",
       "      <th>3</th>\n",
       "      <td>489434</td>\n",
       "      <td>22041</td>\n",
       "      <td>RECORD FRAME 7\" SINGLE SIZE</td>\n",
       "      <td>48</td>\n",
       "      <td>2009-12-01 07:45:00</td>\n",
       "      <td>2.10</td>\n",
       "      <td>13085.0</td>\n",
       "      <td>United Kingdom</td>\n",
       "    </tr>\n",
       "    <tr>\n",
       "      <th>4</th>\n",
       "      <td>489434</td>\n",
       "      <td>21232</td>\n",
       "      <td>STRAWBERRY CERAMIC TRINKET BOX</td>\n",
       "      <td>24</td>\n",
       "      <td>2009-12-01 07:45:00</td>\n",
       "      <td>1.25</td>\n",
       "      <td>13085.0</td>\n",
       "      <td>United Kingdom</td>\n",
       "    </tr>\n",
       "  </tbody>\n",
       "</table>\n",
       "</div>"
      ],
      "text/plain": [
       "  Invoice StockCode                          Description  Quantity  \\\n",
       "0  489434     85048  15CM CHRISTMAS GLASS BALL 20 LIGHTS        12   \n",
       "1  489434    79323P                   PINK CHERRY LIGHTS        12   \n",
       "2  489434    79323W                  WHITE CHERRY LIGHTS        12   \n",
       "3  489434     22041         RECORD FRAME 7\" SINGLE SIZE         48   \n",
       "4  489434     21232       STRAWBERRY CERAMIC TRINKET BOX        24   \n",
       "\n",
       "          InvoiceDate  Price  Customer ID         Country  \n",
       "0 2009-12-01 07:45:00   6.95      13085.0  United Kingdom  \n",
       "1 2009-12-01 07:45:00   6.75      13085.0  United Kingdom  \n",
       "2 2009-12-01 07:45:00   6.75      13085.0  United Kingdom  \n",
       "3 2009-12-01 07:45:00   2.10      13085.0  United Kingdom  \n",
       "4 2009-12-01 07:45:00   1.25      13085.0  United Kingdom  "
      ]
     },
     "execution_count": 5,
     "metadata": {},
     "output_type": "execute_result"
    }
   ],
   "source": [
    "retail.head()"
   ]
  },
  {
   "cell_type": "markdown",
   "metadata": {},
   "source": [
    "Column Description:\n",
    "\n",
    "**InvoiceNo**: Invoice number. Nominal. A 6-digit integral number uniquely assigned to each transaction. If this code starts with the letter 'c', it indicates a cancellation.\n",
    "\n",
    "**StockCode**: Product (item) code. Nominal. A 5-digit integral number uniquely assigned to each distinct product.\n",
    "\n",
    "**Description**: Product (item) name. Nominal.\n",
    "\n",
    "**Quantity**: The quantities of each product (item) per transaction. Numeric.\n",
    "\n",
    "**InvoiceDate**: Invoice date and time. Numeric. The day and time when a transaction was generated.\n",
    "\n",
    "**UnitPrice**: Unit price. Numeric. Product price per unit in sterling.\n",
    "\n",
    "**Customer ID**: Customer number. Nominal. A 5-digit integral number uniquely assigned to each customer.\n",
    "\n",
    "**Country**: Country name. Nominal. The name of the country where a customer resides."
   ]
  },
  {
   "cell_type": "markdown",
   "metadata": {},
   "source": [
    "We will check duplicates since there is overlap of the two sheets."
   ]
  },
  {
   "cell_type": "markdown",
   "metadata": {},
   "source": [
    "### Duplicated Entries"
   ]
  },
  {
   "cell_type": "code",
   "execution_count": 6,
   "metadata": {
    "ExecuteTime": {
     "end_time": "2022-03-02T23:33:43.500241Z",
     "start_time": "2022-03-02T23:33:42.611523Z"
    }
   },
   "outputs": [
    {
     "data": {
      "text/plain": [
       "34335"
      ]
     },
     "execution_count": 6,
     "metadata": {},
     "output_type": "execute_result"
    }
   ],
   "source": [
    "retail.duplicated().sum()"
   ]
  },
  {
   "cell_type": "markdown",
   "metadata": {},
   "source": [
    "Totally 32463 entries are duplicated, which will be remove."
   ]
  },
  {
   "cell_type": "code",
   "execution_count": 7,
   "metadata": {
    "ExecuteTime": {
     "end_time": "2022-03-02T23:33:45.196494Z",
     "start_time": "2022-03-02T23:33:43.506828Z"
    }
   },
   "outputs": [
    {
     "data": {
      "text/plain": [
       "0"
      ]
     },
     "execution_count": 7,
     "metadata": {},
     "output_type": "execute_result"
    }
   ],
   "source": [
    "# Drop all the duplicates\n",
    "retail.drop_duplicates(inplace=True)\n",
    "retail.duplicated().sum()"
   ]
  },
  {
   "cell_type": "markdown",
   "metadata": {},
   "source": [
    "### Country"
   ]
  },
  {
   "cell_type": "code",
   "execution_count": 8,
   "metadata": {
    "ExecuteTime": {
     "end_time": "2022-03-02T23:33:45.265583Z",
     "start_time": "2022-03-02T23:33:45.205682Z"
    }
   },
   "outputs": [
    {
     "data": {
      "text/plain": [
       "United Kingdom    0.917994\n",
       "EIRE              0.017102\n",
       "Germany           0.016785\n",
       "France            0.013576\n",
       "Netherlands       0.004973\n",
       "Name: Country, dtype: float64"
      ]
     },
     "execution_count": 8,
     "metadata": {},
     "output_type": "execute_result"
    }
   ],
   "source": [
    "# Check the top five coutries\n",
    "retail.Country.value_counts(normalize=True)[:5]"
   ]
  },
  {
   "cell_type": "markdown",
   "metadata": {},
   "source": [
    "The transactions from UK account for the vast majority. For this project, we will focus on UK."
   ]
  },
  {
   "cell_type": "code",
   "execution_count": 9,
   "metadata": {
    "ExecuteTime": {
     "end_time": "2022-03-02T23:33:45.500974Z",
     "start_time": "2022-03-02T23:33:45.268942Z"
    }
   },
   "outputs": [
    {
     "data": {
      "text/plain": [
       "array(['United Kingdom'], dtype=object)"
      ]
     },
     "execution_count": 9,
     "metadata": {},
     "output_type": "execute_result"
    }
   ],
   "source": [
    "# Keep the transactions from the U.K. only\n",
    "retail = retail[retail.Country == 'United Kingdom']\n",
    "retail.Country.unique()"
   ]
  },
  {
   "cell_type": "markdown",
   "metadata": {},
   "source": [
    "We will remove the country column since it can't provide more information for the following analysis and modeling"
   ]
  },
  {
   "cell_type": "code",
   "execution_count": 10,
   "metadata": {
    "ExecuteTime": {
     "end_time": "2022-03-02T23:33:45.568214Z",
     "start_time": "2022-03-02T23:33:45.503992Z"
    }
   },
   "outputs": [
    {
     "data": {
      "text/plain": [
       "Index(['Invoice', 'StockCode', 'Description', 'Quantity', 'InvoiceDate',\n",
       "       'Price', 'Customer ID'],\n",
       "      dtype='object')"
      ]
     },
     "execution_count": 10,
     "metadata": {},
     "output_type": "execute_result"
    }
   ],
   "source": [
    "# Drop country column\n",
    "retail.drop('Country', axis=1, inplace=True)\n",
    "retail.columns"
   ]
  },
  {
   "cell_type": "markdown",
   "metadata": {},
   "source": [
    "## Missing Values"
   ]
  },
  {
   "cell_type": "code",
   "execution_count": 11,
   "metadata": {
    "ExecuteTime": {
     "end_time": "2022-03-02T23:33:49.512667Z",
     "start_time": "2022-03-02T23:33:45.571061Z"
    }
   },
   "outputs": [
    {
     "data": {
      "image/png": "[encoded data removed]",
      "text/plain": [
       "<Figure size 1800x720 with 2 Axes>"
      ]
     },
     "metadata": {
      "needs_background": "light"
     },
     "output_type": "display_data"
    }
   ],
   "source": [
    "# Missing value distribution\n",
    "_ = msno.matrix(retail)"
   ]
  },
  {
   "cell_type": "code",
   "execution_count": 12,
   "metadata": {
    "ExecuteTime": {
     "end_time": "2022-03-02T23:33:50.534937Z",
     "start_time": "2022-03-02T23:33:49.515823Z"
    }
   },
   "outputs": [
    {
     "data": {
      "text/html": [
       "<div>\n",
       "<style scoped>\n",
       "    .dataframe tbody tr th:only-of-type {\n",
       "        vertical-align: middle;\n",
       "    }\n",
       "\n",
       "    .dataframe tbody tr th {\n",
       "        vertical-align: top;\n",
       "    }\n",
       "\n",
       "    .dataframe thead th {\n",
       "        text-align: right;\n",
       "    }\n",
       "</style>\n",
       "<table border=\"1\" class=\"dataframe\">\n",
       "  <thead>\n",
       "    <tr style=\"text-align: right;\">\n",
       "      <th></th>\n",
       "      <th>Column Name</th>\n",
       "      <th>Missings</th>\n",
       "      <th>Missing_pct</th>\n",
       "    </tr>\n",
       "  </thead>\n",
       "  <tbody>\n",
       "    <tr>\n",
       "      <th>0</th>\n",
       "      <td>Customer ID</td>\n",
       "      <td>232206</td>\n",
       "      <td>0.245</td>\n",
       "    </tr>\n",
       "    <tr>\n",
       "      <th>1</th>\n",
       "      <td>Description</td>\n",
       "      <td>4275</td>\n",
       "      <td>0.005</td>\n",
       "    </tr>\n",
       "  </tbody>\n",
       "</table>\n",
       "</div>"
      ],
      "text/plain": [
       "   Column Name  Missings  Missing_pct\n",
       "0  Customer ID    232206        0.245\n",
       "1  Description      4275        0.005"
      ]
     },
     "execution_count": 12,
     "metadata": {},
     "output_type": "execute_result"
    }
   ],
   "source": [
    "def missing_vals(data):\n",
    "    # Check the number and percentage of missing values\n",
    "    miss     = data.isnull().sum()\n",
    "    miss_pct  = data.isnull().sum()/data.shape[0]\n",
    "    \n",
    "    miss_pct  = pd.concat([miss, miss_pct], axis =1)\n",
    "    miss_pct.reset_index(inplace=True)\n",
    "    miss_cols = miss_pct.rename(columns={'index':'Column Name', 0:'Missings', 1:'Missing_pct'})\n",
    "    \n",
    "    miss_cols = miss_cols[miss_cols.iloc[:,1]!=0].sort_values('Missing_pct', ascending=False).round(3)\n",
    "    miss_cols.reset_index(inplace=True, drop=True)\n",
    "    \n",
    "    return miss_cols\n",
    "\n",
    "miss_loans = missing_vals(retail)\n",
    "miss_loans"
   ]
  },
  {
   "cell_type": "markdown",
   "metadata": {},
   "source": [
    "### Missing Description"
   ]
  },
  {
   "cell_type": "code",
   "execution_count": 13,
   "metadata": {
    "ExecuteTime": {
     "end_time": "2022-03-02T23:33:50.617114Z",
     "start_time": "2022-03-02T23:33:50.545394Z"
    }
   },
   "outputs": [
    {
     "data": {
      "text/html": [
       "<div>\n",
       "<style scoped>\n",
       "    .dataframe tbody tr th:only-of-type {\n",
       "        vertical-align: middle;\n",
       "    }\n",
       "\n",
       "    .dataframe tbody tr th {\n",
       "        vertical-align: top;\n",
       "    }\n",
       "\n",
       "    .dataframe thead th {\n",
       "        text-align: right;\n",
       "    }\n",
       "</style>\n",
       "<table border=\"1\" class=\"dataframe\">\n",
       "  <thead>\n",
       "    <tr style=\"text-align: right;\">\n",
       "      <th></th>\n",
       "      <th>Invoice</th>\n",
       "      <th>StockCode</th>\n",
       "      <th>Description</th>\n",
       "      <th>Quantity</th>\n",
       "      <th>InvoiceDate</th>\n",
       "      <th>Price</th>\n",
       "      <th>Customer ID</th>\n",
       "    </tr>\n",
       "  </thead>\n",
       "  <tbody>\n",
       "    <tr>\n",
       "      <th>470</th>\n",
       "      <td>489521</td>\n",
       "      <td>21646</td>\n",
       "      <td>NaN</td>\n",
       "      <td>-50</td>\n",
       "      <td>2009-12-01 11:44:00</td>\n",
       "      <td>0.0</td>\n",
       "      <td>NaN</td>\n",
       "    </tr>\n",
       "    <tr>\n",
       "      <th>3114</th>\n",
       "      <td>489655</td>\n",
       "      <td>20683</td>\n",
       "      <td>NaN</td>\n",
       "      <td>-44</td>\n",
       "      <td>2009-12-01 17:26:00</td>\n",
       "      <td>0.0</td>\n",
       "      <td>NaN</td>\n",
       "    </tr>\n",
       "    <tr>\n",
       "      <th>3161</th>\n",
       "      <td>489659</td>\n",
       "      <td>21350</td>\n",
       "      <td>NaN</td>\n",
       "      <td>230</td>\n",
       "      <td>2009-12-01 17:39:00</td>\n",
       "      <td>0.0</td>\n",
       "      <td>NaN</td>\n",
       "    </tr>\n",
       "    <tr>\n",
       "      <th>3731</th>\n",
       "      <td>489781</td>\n",
       "      <td>84292</td>\n",
       "      <td>NaN</td>\n",
       "      <td>17</td>\n",
       "      <td>2009-12-02 11:45:00</td>\n",
       "      <td>0.0</td>\n",
       "      <td>NaN</td>\n",
       "    </tr>\n",
       "    <tr>\n",
       "      <th>4296</th>\n",
       "      <td>489806</td>\n",
       "      <td>18010</td>\n",
       "      <td>NaN</td>\n",
       "      <td>-770</td>\n",
       "      <td>2009-12-02 12:42:00</td>\n",
       "      <td>0.0</td>\n",
       "      <td>NaN</td>\n",
       "    </tr>\n",
       "    <tr>\n",
       "      <th>...</th>\n",
       "      <td>...</td>\n",
       "      <td>...</td>\n",
       "      <td>...</td>\n",
       "      <td>...</td>\n",
       "      <td>...</td>\n",
       "      <td>...</td>\n",
       "      <td>...</td>\n",
       "    </tr>\n",
       "    <tr>\n",
       "      <th>1060783</th>\n",
       "      <td>581199</td>\n",
       "      <td>84581</td>\n",
       "      <td>NaN</td>\n",
       "      <td>-2</td>\n",
       "      <td>2011-12-07 18:26:00</td>\n",
       "      <td>0.0</td>\n",
       "      <td>NaN</td>\n",
       "    </tr>\n",
       "    <tr>\n",
       "      <th>1060787</th>\n",
       "      <td>581203</td>\n",
       "      <td>23406</td>\n",
       "      <td>NaN</td>\n",
       "      <td>15</td>\n",
       "      <td>2011-12-07 18:31:00</td>\n",
       "      <td>0.0</td>\n",
       "      <td>NaN</td>\n",
       "    </tr>\n",
       "    <tr>\n",
       "      <th>1060793</th>\n",
       "      <td>581209</td>\n",
       "      <td>21620</td>\n",
       "      <td>NaN</td>\n",
       "      <td>6</td>\n",
       "      <td>2011-12-07 18:35:00</td>\n",
       "      <td>0.0</td>\n",
       "      <td>NaN</td>\n",
       "    </tr>\n",
       "    <tr>\n",
       "      <th>1062442</th>\n",
       "      <td>581234</td>\n",
       "      <td>72817</td>\n",
       "      <td>NaN</td>\n",
       "      <td>27</td>\n",
       "      <td>2011-12-08 10:33:00</td>\n",
       "      <td>0.0</td>\n",
       "      <td>NaN</td>\n",
       "    </tr>\n",
       "    <tr>\n",
       "      <th>1064015</th>\n",
       "      <td>581408</td>\n",
       "      <td>85175</td>\n",
       "      <td>NaN</td>\n",
       "      <td>20</td>\n",
       "      <td>2011-12-08 14:06:00</td>\n",
       "      <td>0.0</td>\n",
       "      <td>NaN</td>\n",
       "    </tr>\n",
       "  </tbody>\n",
       "</table>\n",
       "<p>4275 rows × 7 columns</p>\n",
       "</div>"
      ],
      "text/plain": [
       "        Invoice StockCode Description  Quantity         InvoiceDate  Price  \\\n",
       "470      489521     21646         NaN       -50 2009-12-01 11:44:00    0.0   \n",
       "3114     489655     20683         NaN       -44 2009-12-01 17:26:00    0.0   \n",
       "3161     489659     21350         NaN       230 2009-12-01 17:39:00    0.0   \n",
       "3731     489781     84292         NaN        17 2009-12-02 11:45:00    0.0   \n",
       "4296     489806     18010         NaN      -770 2009-12-02 12:42:00    0.0   \n",
       "...         ...       ...         ...       ...                 ...    ...   \n",
       "1060783  581199     84581         NaN        -2 2011-12-07 18:26:00    0.0   \n",
       "1060787  581203     23406         NaN        15 2011-12-07 18:31:00    0.0   \n",
       "1060793  581209     21620         NaN         6 2011-12-07 18:35:00    0.0   \n",
       "1062442  581234     72817         NaN        27 2011-12-08 10:33:00    0.0   \n",
       "1064015  581408     85175         NaN        20 2011-12-08 14:06:00    0.0   \n",
       "\n",
       "         Customer ID  \n",
       "470              NaN  \n",
       "3114             NaN  \n",
       "3161             NaN  \n",
       "3731             NaN  \n",
       "4296             NaN  \n",
       "...              ...  \n",
       "1060783          NaN  \n",
       "1060787          NaN  \n",
       "1060793          NaN  \n",
       "1062442          NaN  \n",
       "1064015          NaN  \n",
       "\n",
       "[4275 rows x 7 columns]"
      ]
     },
     "execution_count": 13,
     "metadata": {},
     "output_type": "execute_result"
    }
   ],
   "source": [
    "retail[retail.Description.isna()]"
   ]
  },
  {
   "cell_type": "markdown",
   "metadata": {},
   "source": [
    "Some values look weird, such as the negative values in Quantity and the zero price. Only about 0.5% of the transactions have no description, so we will remove all these entries."
   ]
  },
  {
   "cell_type": "code",
   "execution_count": 14,
   "metadata": {
    "ExecuteTime": {
     "end_time": "2022-03-02T23:33:50.868348Z",
     "start_time": "2022-03-02T23:33:50.628350Z"
    }
   },
   "outputs": [
    {
     "data": {
      "text/plain": [
       "0"
      ]
     },
     "execution_count": 14,
     "metadata": {},
     "output_type": "execute_result"
    }
   ],
   "source": [
    "# Remove the entries with missing Description\n",
    "retail = retail[retail.Description.notna()]\n",
    "retail.Description.isna().sum()"
   ]
  },
  {
   "cell_type": "markdown",
   "metadata": {},
   "source": [
    "### Missing Customer ID"
   ]
  },
  {
   "cell_type": "markdown",
   "metadata": {},
   "source": [
    "Almost one fourth of the transactions have no Customer ID that is critical to the analysis based on cohort. The distribution of the Customer ID's missing values look random, so temporarily,  we fill missing Customer ID with 0"
   ]
  },
  {
   "cell_type": "code",
   "execution_count": 15,
   "metadata": {
    "ExecuteTime": {
     "end_time": "2022-03-02T23:33:50.884738Z",
     "start_time": "2022-03-02T23:33:50.871080Z"
    }
   },
   "outputs": [],
   "source": [
    "retail['Customer ID'].fillna(0, inplace=True)"
   ]
  },
  {
   "cell_type": "code",
   "execution_count": 16,
   "metadata": {
    "ExecuteTime": {
     "end_time": "2022-03-02T23:33:51.454330Z",
     "start_time": "2022-03-02T23:33:50.887357Z"
    }
   },
   "outputs": [
    {
     "data": {
      "text/plain": [
       "Invoice        0\n",
       "StockCode      0\n",
       "Description    0\n",
       "Quantity       0\n",
       "InvoiceDate    0\n",
       "Price          0\n",
       "Customer ID    0\n",
       "dtype: int64"
      ]
     },
     "execution_count": 16,
     "metadata": {},
     "output_type": "execute_result"
    }
   ],
   "source": [
    "retail.isna().sum()"
   ]
  },
  {
   "cell_type": "markdown",
   "metadata": {},
   "source": [
    "As we can see, there's a space between \"Customer\" and \"ID\", we will remove the space for convenience."
   ]
  },
  {
   "cell_type": "code",
   "execution_count": 17,
   "metadata": {
    "ExecuteTime": {
     "end_time": "2022-03-02T23:33:51.465898Z",
     "start_time": "2022-03-02T23:33:51.456989Z"
    }
   },
   "outputs": [
    {
     "data": {
      "text/plain": [
       "Index(['Invoice', 'StockCode', 'Description', 'Quantity', 'InvoiceDate',\n",
       "       'Price', 'CustomerID'],\n",
       "      dtype='object')"
      ]
     },
     "execution_count": 17,
     "metadata": {},
     "output_type": "execute_result"
    }
   ],
   "source": [
    "# Remove space\n",
    "retail.rename(columns = {'Customer ID': 'CustomerID'}, inplace=True)\n",
    "retail.columns"
   ]
  },
  {
   "cell_type": "markdown",
   "metadata": {},
   "source": [
    "## Numerical Features"
   ]
  },
  {
   "cell_type": "code",
   "execution_count": 18,
   "metadata": {
    "ExecuteTime": {
     "end_time": "2022-03-02T23:33:51.569920Z",
     "start_time": "2022-03-02T23:33:51.471594Z"
    }
   },
   "outputs": [
    {
     "data": {
      "text/html": [
       "<div>\n",
       "<style scoped>\n",
       "    .dataframe tbody tr th:only-of-type {\n",
       "        vertical-align: middle;\n",
       "    }\n",
       "\n",
       "    .dataframe tbody tr th {\n",
       "        vertical-align: top;\n",
       "    }\n",
       "\n",
       "    .dataframe thead th {\n",
       "        text-align: right;\n",
       "    }\n",
       "</style>\n",
       "<table border=\"1\" class=\"dataframe\">\n",
       "  <thead>\n",
       "    <tr style=\"text-align: right;\">\n",
       "      <th></th>\n",
       "      <th>Quantity</th>\n",
       "      <th>Price</th>\n",
       "    </tr>\n",
       "  </thead>\n",
       "  <tbody>\n",
       "    <tr>\n",
       "      <th>count</th>\n",
       "      <td>944046.000000</td>\n",
       "      <td>944046.000000</td>\n",
       "    </tr>\n",
       "    <tr>\n",
       "      <th>mean</th>\n",
       "      <td>9.096960</td>\n",
       "      <td>4.514302</td>\n",
       "    </tr>\n",
       "    <tr>\n",
       "      <th>std</th>\n",
       "      <td>172.168235</td>\n",
       "      <td>125.825481</td>\n",
       "    </tr>\n",
       "    <tr>\n",
       "      <th>min</th>\n",
       "      <td>-80995.000000</td>\n",
       "      <td>-53594.360000</td>\n",
       "    </tr>\n",
       "    <tr>\n",
       "      <th>25%</th>\n",
       "      <td>1.000000</td>\n",
       "      <td>1.250000</td>\n",
       "    </tr>\n",
       "    <tr>\n",
       "      <th>50%</th>\n",
       "      <td>3.000000</td>\n",
       "      <td>2.100000</td>\n",
       "    </tr>\n",
       "    <tr>\n",
       "      <th>75%</th>\n",
       "      <td>10.000000</td>\n",
       "      <td>4.150000</td>\n",
       "    </tr>\n",
       "    <tr>\n",
       "      <th>max</th>\n",
       "      <td>80995.000000</td>\n",
       "      <td>38970.000000</td>\n",
       "    </tr>\n",
       "  </tbody>\n",
       "</table>\n",
       "</div>"
      ],
      "text/plain": [
       "            Quantity          Price\n",
       "count  944046.000000  944046.000000\n",
       "mean        9.096960       4.514302\n",
       "std       172.168235     125.825481\n",
       "min    -80995.000000  -53594.360000\n",
       "25%         1.000000       1.250000\n",
       "50%         3.000000       2.100000\n",
       "75%        10.000000       4.150000\n",
       "max     80995.000000   38970.000000"
      ]
     },
     "execution_count": 18,
     "metadata": {},
     "output_type": "execute_result"
    }
   ],
   "source": [
    "retail[['Quantity', 'Price']].describe()"
   ]
  },
  {
   "cell_type": "markdown",
   "metadata": {},
   "source": [
    "Both quantity and price has negative values. Let's check it."
   ]
  },
  {
   "cell_type": "markdown",
   "metadata": {},
   "source": [
    "### Price"
   ]
  },
  {
   "cell_type": "code",
   "execution_count": 19,
   "metadata": {
    "ExecuteTime": {
     "end_time": "2022-03-02T23:33:51.589264Z",
     "start_time": "2022-03-02T23:33:51.573545Z"
    }
   },
   "outputs": [
    {
     "data": {
      "text/plain": [
       "0.0018187673058304363"
      ]
     },
     "execution_count": 19,
     "metadata": {},
     "output_type": "execute_result"
    }
   ],
   "source": [
    "# Calculate the percentage of the transactions whose price are less than or equal to 0\n",
    "retail[retail.Price <= 0].shape[0] / retail.shape[0]"
   ]
  },
  {
   "cell_type": "code",
   "execution_count": 20,
   "metadata": {
    "ExecuteTime": {
     "end_time": "2022-03-02T23:33:51.615548Z",
     "start_time": "2022-03-02T23:33:51.593834Z"
    }
   },
   "outputs": [
    {
     "data": {
      "text/html": [
       "<div>\n",
       "<style scoped>\n",
       "    .dataframe tbody tr th:only-of-type {\n",
       "        vertical-align: middle;\n",
       "    }\n",
       "\n",
       "    .dataframe tbody tr th {\n",
       "        vertical-align: top;\n",
       "    }\n",
       "\n",
       "    .dataframe thead th {\n",
       "        text-align: right;\n",
       "    }\n",
       "</style>\n",
       "<table border=\"1\" class=\"dataframe\">\n",
       "  <thead>\n",
       "    <tr style=\"text-align: right;\">\n",
       "      <th></th>\n",
       "      <th>Invoice</th>\n",
       "      <th>StockCode</th>\n",
       "      <th>Description</th>\n",
       "      <th>Quantity</th>\n",
       "      <th>InvoiceDate</th>\n",
       "      <th>Price</th>\n",
       "      <th>CustomerID</th>\n",
       "    </tr>\n",
       "  </thead>\n",
       "  <tbody>\n",
       "    <tr>\n",
       "      <th>263</th>\n",
       "      <td>489464</td>\n",
       "      <td>21733</td>\n",
       "      <td>85123a mixed</td>\n",
       "      <td>-96</td>\n",
       "      <td>2009-12-01 10:52:00</td>\n",
       "      <td>0.0</td>\n",
       "      <td>0.0</td>\n",
       "    </tr>\n",
       "    <tr>\n",
       "      <th>283</th>\n",
       "      <td>489463</td>\n",
       "      <td>71477</td>\n",
       "      <td>short</td>\n",
       "      <td>-240</td>\n",
       "      <td>2009-12-01 10:52:00</td>\n",
       "      <td>0.0</td>\n",
       "      <td>0.0</td>\n",
       "    </tr>\n",
       "    <tr>\n",
       "      <th>284</th>\n",
       "      <td>489467</td>\n",
       "      <td>85123A</td>\n",
       "      <td>21733 mixed</td>\n",
       "      <td>-192</td>\n",
       "      <td>2009-12-01 10:53:00</td>\n",
       "      <td>0.0</td>\n",
       "      <td>0.0</td>\n",
       "    </tr>\n",
       "    <tr>\n",
       "      <th>3162</th>\n",
       "      <td>489660</td>\n",
       "      <td>35956</td>\n",
       "      <td>lost</td>\n",
       "      <td>-1043</td>\n",
       "      <td>2009-12-01 17:43:00</td>\n",
       "      <td>0.0</td>\n",
       "      <td>0.0</td>\n",
       "    </tr>\n",
       "    <tr>\n",
       "      <th>3168</th>\n",
       "      <td>489663</td>\n",
       "      <td>35605A</td>\n",
       "      <td>damages</td>\n",
       "      <td>-117</td>\n",
       "      <td>2009-12-01 18:02:00</td>\n",
       "      <td>0.0</td>\n",
       "      <td>0.0</td>\n",
       "    </tr>\n",
       "    <tr>\n",
       "      <th>...</th>\n",
       "      <td>...</td>\n",
       "      <td>...</td>\n",
       "      <td>...</td>\n",
       "      <td>...</td>\n",
       "      <td>...</td>\n",
       "      <td>...</td>\n",
       "      <td>...</td>\n",
       "    </tr>\n",
       "    <tr>\n",
       "      <th>1060797</th>\n",
       "      <td>581213</td>\n",
       "      <td>22576</td>\n",
       "      <td>check</td>\n",
       "      <td>-30</td>\n",
       "      <td>2011-12-07 18:38:00</td>\n",
       "      <td>0.0</td>\n",
       "      <td>0.0</td>\n",
       "    </tr>\n",
       "    <tr>\n",
       "      <th>1062371</th>\n",
       "      <td>581226</td>\n",
       "      <td>23090</td>\n",
       "      <td>missing</td>\n",
       "      <td>-338</td>\n",
       "      <td>2011-12-08 09:56:00</td>\n",
       "      <td>0.0</td>\n",
       "      <td>0.0</td>\n",
       "    </tr>\n",
       "    <tr>\n",
       "      <th>1063965</th>\n",
       "      <td>581406</td>\n",
       "      <td>46000M</td>\n",
       "      <td>POLYESTER FILLER PAD 45x45cm</td>\n",
       "      <td>240</td>\n",
       "      <td>2011-12-08 13:58:00</td>\n",
       "      <td>0.0</td>\n",
       "      <td>0.0</td>\n",
       "    </tr>\n",
       "    <tr>\n",
       "      <th>1063966</th>\n",
       "      <td>581406</td>\n",
       "      <td>46000S</td>\n",
       "      <td>POLYESTER FILLER PAD 40x40cm</td>\n",
       "      <td>300</td>\n",
       "      <td>2011-12-08 13:58:00</td>\n",
       "      <td>0.0</td>\n",
       "      <td>0.0</td>\n",
       "    </tr>\n",
       "    <tr>\n",
       "      <th>1064386</th>\n",
       "      <td>581422</td>\n",
       "      <td>23169</td>\n",
       "      <td>smashed</td>\n",
       "      <td>-235</td>\n",
       "      <td>2011-12-08 15:24:00</td>\n",
       "      <td>0.0</td>\n",
       "      <td>0.0</td>\n",
       "    </tr>\n",
       "  </tbody>\n",
       "</table>\n",
       "<p>1717 rows × 7 columns</p>\n",
       "</div>"
      ],
      "text/plain": [
       "        Invoice StockCode                   Description  Quantity  \\\n",
       "263      489464     21733                  85123a mixed       -96   \n",
       "283      489463     71477                         short      -240   \n",
       "284      489467    85123A                   21733 mixed      -192   \n",
       "3162     489660     35956                          lost     -1043   \n",
       "3168     489663    35605A                       damages      -117   \n",
       "...         ...       ...                           ...       ...   \n",
       "1060797  581213     22576                         check       -30   \n",
       "1062371  581226     23090                       missing      -338   \n",
       "1063965  581406    46000M  POLYESTER FILLER PAD 45x45cm       240   \n",
       "1063966  581406    46000S  POLYESTER FILLER PAD 40x40cm       300   \n",
       "1064386  581422     23169                       smashed      -235   \n",
       "\n",
       "                InvoiceDate  Price  CustomerID  \n",
       "263     2009-12-01 10:52:00    0.0         0.0  \n",
       "283     2009-12-01 10:52:00    0.0         0.0  \n",
       "284     2009-12-01 10:53:00    0.0         0.0  \n",
       "3162    2009-12-01 17:43:00    0.0         0.0  \n",
       "3168    2009-12-01 18:02:00    0.0         0.0  \n",
       "...                     ...    ...         ...  \n",
       "1060797 2011-12-07 18:38:00    0.0         0.0  \n",
       "1062371 2011-12-08 09:56:00    0.0         0.0  \n",
       "1063965 2011-12-08 13:58:00    0.0         0.0  \n",
       "1063966 2011-12-08 13:58:00    0.0         0.0  \n",
       "1064386 2011-12-08 15:24:00    0.0         0.0  \n",
       "\n",
       "[1717 rows x 7 columns]"
      ]
     },
     "execution_count": 20,
     "metadata": {},
     "output_type": "execute_result"
    }
   ],
   "source": [
    "retail[retail.Price <= 0]"
   ]
  },
  {
   "cell_type": "markdown",
   "metadata": {},
   "source": [
    "Less than 0.2% transactions' price is less than or equal to zero. Moreover, most of the description of these transactions look different from a normal transaction. We will remove all these entries."
   ]
  },
  {
   "cell_type": "code",
   "execution_count": 21,
   "metadata": {
    "ExecuteTime": {
     "end_time": "2022-03-02T23:33:51.762816Z",
     "start_time": "2022-03-02T23:33:51.621809Z"
    }
   },
   "outputs": [
    {
     "data": {
      "text/plain": [
       "count    942329.000000\n",
       "mean          4.690915\n",
       "std          94.265751\n",
       "min           0.001000\n",
       "25%           1.250000\n",
       "50%           2.100000\n",
       "75%           4.150000\n",
       "max       38970.000000\n",
       "Name: Price, dtype: float64"
      ]
     },
     "execution_count": 21,
     "metadata": {},
     "output_type": "execute_result"
    }
   ],
   "source": [
    "# Keep the transactions with price more than 0\n",
    "retail = retail[retail.Price > 0]\n",
    "retail.Price.describe()"
   ]
  },
  {
   "cell_type": "markdown",
   "metadata": {},
   "source": [
    "### Quantity"
   ]
  },
  {
   "cell_type": "code",
   "execution_count": 22,
   "metadata": {
    "ExecuteTime": {
     "end_time": "2022-03-02T23:33:51.828689Z",
     "start_time": "2022-03-02T23:33:51.788718Z"
    }
   },
   "outputs": [
    {
     "data": {
      "text/plain": [
       "0.01728695604189195"
      ]
     },
     "execution_count": 22,
     "metadata": {},
     "output_type": "execute_result"
    }
   ],
   "source": [
    "# Calculate the percentage of the transactions whose quantity are less than or equal to 0\n",
    "retail[retail.Quantity <= 0].shape[0] / retail.shape[0]"
   ]
  },
  {
   "cell_type": "code",
   "execution_count": 23,
   "metadata": {
    "ExecuteTime": {
     "end_time": "2022-03-02T23:33:51.901113Z",
     "start_time": "2022-03-02T23:33:51.854926Z"
    }
   },
   "outputs": [
    {
     "data": {
      "text/html": [
       "<div>\n",
       "<style scoped>\n",
       "    .dataframe tbody tr th:only-of-type {\n",
       "        vertical-align: middle;\n",
       "    }\n",
       "\n",
       "    .dataframe tbody tr th {\n",
       "        vertical-align: top;\n",
       "    }\n",
       "\n",
       "    .dataframe thead th {\n",
       "        text-align: right;\n",
       "    }\n",
       "</style>\n",
       "<table border=\"1\" class=\"dataframe\">\n",
       "  <thead>\n",
       "    <tr style=\"text-align: right;\">\n",
       "      <th></th>\n",
       "      <th>Invoice</th>\n",
       "      <th>StockCode</th>\n",
       "      <th>Description</th>\n",
       "      <th>Quantity</th>\n",
       "      <th>InvoiceDate</th>\n",
       "      <th>Price</th>\n",
       "      <th>CustomerID</th>\n",
       "    </tr>\n",
       "  </thead>\n",
       "  <tbody>\n",
       "    <tr>\n",
       "      <th>196</th>\n",
       "      <td>C489459</td>\n",
       "      <td>90200A</td>\n",
       "      <td>PURPLE SWEETHEART BRACELET</td>\n",
       "      <td>-3</td>\n",
       "      <td>2009-12-01 10:44:00</td>\n",
       "      <td>4.25</td>\n",
       "      <td>17592.0</td>\n",
       "    </tr>\n",
       "    <tr>\n",
       "      <th>197</th>\n",
       "      <td>C489459</td>\n",
       "      <td>90200D</td>\n",
       "      <td>PINK SWEETHEART BRACELET</td>\n",
       "      <td>-3</td>\n",
       "      <td>2009-12-01 10:44:00</td>\n",
       "      <td>4.25</td>\n",
       "      <td>17592.0</td>\n",
       "    </tr>\n",
       "    <tr>\n",
       "      <th>198</th>\n",
       "      <td>C489459</td>\n",
       "      <td>90200B</td>\n",
       "      <td>BLACK SWEETHEART BRACELET</td>\n",
       "      <td>-3</td>\n",
       "      <td>2009-12-01 10:44:00</td>\n",
       "      <td>4.25</td>\n",
       "      <td>17592.0</td>\n",
       "    </tr>\n",
       "    <tr>\n",
       "      <th>199</th>\n",
       "      <td>C489459</td>\n",
       "      <td>90200E</td>\n",
       "      <td>GREEN SWEETHEART BRACELET</td>\n",
       "      <td>-3</td>\n",
       "      <td>2009-12-01 10:44:00</td>\n",
       "      <td>4.25</td>\n",
       "      <td>17592.0</td>\n",
       "    </tr>\n",
       "    <tr>\n",
       "      <th>200</th>\n",
       "      <td>C489459</td>\n",
       "      <td>90200C</td>\n",
       "      <td>BLUE SWEETHEART BRACELET</td>\n",
       "      <td>-3</td>\n",
       "      <td>2009-12-01 10:44:00</td>\n",
       "      <td>4.25</td>\n",
       "      <td>17592.0</td>\n",
       "    </tr>\n",
       "    <tr>\n",
       "      <th>...</th>\n",
       "      <td>...</td>\n",
       "      <td>...</td>\n",
       "      <td>...</td>\n",
       "      <td>...</td>\n",
       "      <td>...</td>\n",
       "      <td>...</td>\n",
       "      <td>...</td>\n",
       "    </tr>\n",
       "    <tr>\n",
       "      <th>1065910</th>\n",
       "      <td>C581490</td>\n",
       "      <td>23144</td>\n",
       "      <td>ZINC T-LIGHT HOLDER STARS SMALL</td>\n",
       "      <td>-11</td>\n",
       "      <td>2011-12-09 09:57:00</td>\n",
       "      <td>0.83</td>\n",
       "      <td>14397.0</td>\n",
       "    </tr>\n",
       "    <tr>\n",
       "      <th>1067002</th>\n",
       "      <td>C581499</td>\n",
       "      <td>M</td>\n",
       "      <td>Manual</td>\n",
       "      <td>-1</td>\n",
       "      <td>2011-12-09 10:28:00</td>\n",
       "      <td>224.69</td>\n",
       "      <td>15498.0</td>\n",
       "    </tr>\n",
       "    <tr>\n",
       "      <th>1067176</th>\n",
       "      <td>C581568</td>\n",
       "      <td>21258</td>\n",
       "      <td>VICTORIAN SEWING BOX LARGE</td>\n",
       "      <td>-5</td>\n",
       "      <td>2011-12-09 11:57:00</td>\n",
       "      <td>10.95</td>\n",
       "      <td>15311.0</td>\n",
       "    </tr>\n",
       "    <tr>\n",
       "      <th>1067177</th>\n",
       "      <td>C581569</td>\n",
       "      <td>84978</td>\n",
       "      <td>HANGING HEART JAR T-LIGHT HOLDER</td>\n",
       "      <td>-1</td>\n",
       "      <td>2011-12-09 11:58:00</td>\n",
       "      <td>1.25</td>\n",
       "      <td>17315.0</td>\n",
       "    </tr>\n",
       "    <tr>\n",
       "      <th>1067178</th>\n",
       "      <td>C581569</td>\n",
       "      <td>20979</td>\n",
       "      <td>36 PENCILS TUBE RED RETROSPOT</td>\n",
       "      <td>-5</td>\n",
       "      <td>2011-12-09 11:58:00</td>\n",
       "      <td>1.25</td>\n",
       "      <td>17315.0</td>\n",
       "    </tr>\n",
       "  </tbody>\n",
       "</table>\n",
       "<p>16290 rows × 7 columns</p>\n",
       "</div>"
      ],
      "text/plain": [
       "         Invoice StockCode                       Description  Quantity  \\\n",
       "196      C489459    90200A        PURPLE SWEETHEART BRACELET        -3   \n",
       "197      C489459    90200D          PINK SWEETHEART BRACELET        -3   \n",
       "198      C489459    90200B         BLACK SWEETHEART BRACELET        -3   \n",
       "199      C489459    90200E         GREEN SWEETHEART BRACELET        -3   \n",
       "200      C489459    90200C          BLUE SWEETHEART BRACELET        -3   \n",
       "...          ...       ...                               ...       ...   \n",
       "1065910  C581490     23144   ZINC T-LIGHT HOLDER STARS SMALL       -11   \n",
       "1067002  C581499         M                            Manual        -1   \n",
       "1067176  C581568     21258        VICTORIAN SEWING BOX LARGE        -5   \n",
       "1067177  C581569     84978  HANGING HEART JAR T-LIGHT HOLDER        -1   \n",
       "1067178  C581569     20979     36 PENCILS TUBE RED RETROSPOT        -5   \n",
       "\n",
       "                InvoiceDate   Price  CustomerID  \n",
       "196     2009-12-01 10:44:00    4.25     17592.0  \n",
       "197     2009-12-01 10:44:00    4.25     17592.0  \n",
       "198     2009-12-01 10:44:00    4.25     17592.0  \n",
       "199     2009-12-01 10:44:00    4.25     17592.0  \n",
       "200     2009-12-01 10:44:00    4.25     17592.0  \n",
       "...                     ...     ...         ...  \n",
       "1065910 2011-12-09 09:57:00    0.83     14397.0  \n",
       "1067002 2011-12-09 10:28:00  224.69     15498.0  \n",
       "1067176 2011-12-09 11:57:00   10.95     15311.0  \n",
       "1067177 2011-12-09 11:58:00    1.25     17315.0  \n",
       "1067178 2011-12-09 11:58:00    1.25     17315.0  \n",
       "\n",
       "[16290 rows x 7 columns]"
      ]
     },
     "execution_count": 23,
     "metadata": {},
     "output_type": "execute_result"
    }
   ],
   "source": [
    "retail[retail.Quantity <= 0]"
   ]
  },
  {
   "cell_type": "markdown",
   "metadata": {},
   "source": [
    "The Invoice codes of the first and last five entries show that the transactions with negative quantity had been canceled(According to the column description, the code starting with the letter 'c' indicates a cancellation). Here, we will remove the transactions with negative quantity without further exploration since they only account for less than 2% of all the transactions."
   ]
  },
  {
   "cell_type": "code",
   "execution_count": 24,
   "metadata": {
    "ExecuteTime": {
     "end_time": "2022-03-02T23:33:52.149597Z",
     "start_time": "2022-03-02T23:33:51.916023Z"
    }
   },
   "outputs": [
    {
     "data": {
      "text/plain": [
       "count    926039.000000\n",
       "mean          9.921563\n",
       "std         124.656086\n",
       "min           1.000000\n",
       "25%           1.000000\n",
       "50%           3.000000\n",
       "75%          10.000000\n",
       "max       80995.000000\n",
       "Name: Quantity, dtype: float64"
      ]
     },
     "execution_count": 24,
     "metadata": {},
     "output_type": "execute_result"
    }
   ],
   "source": [
    "# Keep the transactions with quantity more than 0\n",
    "retail = retail[retail.Quantity > 0]\n",
    "retail.Quantity.describe()"
   ]
  },
  {
   "cell_type": "markdown",
   "metadata": {},
   "source": [
    "### Revenue"
   ]
  },
  {
   "cell_type": "code",
   "execution_count": 25,
   "metadata": {
    "ExecuteTime": {
     "end_time": "2022-03-02T23:33:52.192606Z",
     "start_time": "2022-03-02T23:33:52.165968Z"
    }
   },
   "outputs": [
    {
     "data": {
      "text/html": [
       "<div>\n",
       "<style scoped>\n",
       "    .dataframe tbody tr th:only-of-type {\n",
       "        vertical-align: middle;\n",
       "    }\n",
       "\n",
       "    .dataframe tbody tr th {\n",
       "        vertical-align: top;\n",
       "    }\n",
       "\n",
       "    .dataframe thead th {\n",
       "        text-align: right;\n",
       "    }\n",
       "</style>\n",
       "<table border=\"1\" class=\"dataframe\">\n",
       "  <thead>\n",
       "    <tr style=\"text-align: right;\">\n",
       "      <th></th>\n",
       "      <th>Invoice</th>\n",
       "      <th>StockCode</th>\n",
       "      <th>Description</th>\n",
       "      <th>Quantity</th>\n",
       "      <th>InvoiceDate</th>\n",
       "      <th>Price</th>\n",
       "      <th>CustomerID</th>\n",
       "      <th>Revenue</th>\n",
       "    </tr>\n",
       "  </thead>\n",
       "  <tbody>\n",
       "    <tr>\n",
       "      <th>0</th>\n",
       "      <td>489434</td>\n",
       "      <td>85048</td>\n",
       "      <td>15CM CHRISTMAS GLASS BALL 20 LIGHTS</td>\n",
       "      <td>12</td>\n",
       "      <td>2009-12-01 07:45:00</td>\n",
       "      <td>6.95</td>\n",
       "      <td>13085.0</td>\n",
       "      <td>83.4</td>\n",
       "    </tr>\n",
       "    <tr>\n",
       "      <th>1</th>\n",
       "      <td>489434</td>\n",
       "      <td>79323P</td>\n",
       "      <td>PINK CHERRY LIGHTS</td>\n",
       "      <td>12</td>\n",
       "      <td>2009-12-01 07:45:00</td>\n",
       "      <td>6.75</td>\n",
       "      <td>13085.0</td>\n",
       "      <td>81.0</td>\n",
       "    </tr>\n",
       "    <tr>\n",
       "      <th>2</th>\n",
       "      <td>489434</td>\n",
       "      <td>79323W</td>\n",
       "      <td>WHITE CHERRY LIGHTS</td>\n",
       "      <td>12</td>\n",
       "      <td>2009-12-01 07:45:00</td>\n",
       "      <td>6.75</td>\n",
       "      <td>13085.0</td>\n",
       "      <td>81.0</td>\n",
       "    </tr>\n",
       "    <tr>\n",
       "      <th>3</th>\n",
       "      <td>489434</td>\n",
       "      <td>22041</td>\n",
       "      <td>RECORD FRAME 7\" SINGLE SIZE</td>\n",
       "      <td>48</td>\n",
       "      <td>2009-12-01 07:45:00</td>\n",
       "      <td>2.10</td>\n",
       "      <td>13085.0</td>\n",
       "      <td>100.8</td>\n",
       "    </tr>\n",
       "    <tr>\n",
       "      <th>4</th>\n",
       "      <td>489434</td>\n",
       "      <td>21232</td>\n",
       "      <td>STRAWBERRY CERAMIC TRINKET BOX</td>\n",
       "      <td>24</td>\n",
       "      <td>2009-12-01 07:45:00</td>\n",
       "      <td>1.25</td>\n",
       "      <td>13085.0</td>\n",
       "      <td>30.0</td>\n",
       "    </tr>\n",
       "  </tbody>\n",
       "</table>\n",
       "</div>"
      ],
      "text/plain": [
       "  Invoice StockCode                          Description  Quantity  \\\n",
       "0  489434     85048  15CM CHRISTMAS GLASS BALL 20 LIGHTS        12   \n",
       "1  489434    79323P                   PINK CHERRY LIGHTS        12   \n",
       "2  489434    79323W                  WHITE CHERRY LIGHTS        12   \n",
       "3  489434     22041         RECORD FRAME 7\" SINGLE SIZE         48   \n",
       "4  489434     21232       STRAWBERRY CERAMIC TRINKET BOX        24   \n",
       "\n",
       "          InvoiceDate  Price  CustomerID  Revenue  \n",
       "0 2009-12-01 07:45:00   6.95     13085.0     83.4  \n",
       "1 2009-12-01 07:45:00   6.75     13085.0     81.0  \n",
       "2 2009-12-01 07:45:00   6.75     13085.0     81.0  \n",
       "3 2009-12-01 07:45:00   2.10     13085.0    100.8  \n",
       "4 2009-12-01 07:45:00   1.25     13085.0     30.0  "
      ]
     },
     "execution_count": 25,
     "metadata": {},
     "output_type": "execute_result"
    }
   ],
   "source": [
    "# Create revenue column\n",
    "retail['Revenue'] = retail.Quantity * retail.Price\n",
    "retail.head()"
   ]
  },
  {
   "cell_type": "code",
   "execution_count": 26,
   "metadata": {
    "ExecuteTime": {
     "end_time": "2022-03-02T23:33:52.265632Z",
     "start_time": "2022-03-02T23:33:52.199048Z"
    }
   },
   "outputs": [
    {
     "data": {
      "text/plain": [
       "count    926039.000000\n",
       "mean         18.801119\n",
       "std         212.690077\n",
       "min           0.001000\n",
       "25%           3.750000\n",
       "50%           8.850000\n",
       "75%          17.000000\n",
       "max      168469.600000\n",
       "Name: Revenue, dtype: float64"
      ]
     },
     "execution_count": 26,
     "metadata": {},
     "output_type": "execute_result"
    }
   ],
   "source": [
    "retail.Revenue.describe()"
   ]
  },
  {
   "cell_type": "code",
   "execution_count": 27,
   "metadata": {
    "ExecuteTime": {
     "end_time": "2022-03-02T23:33:52.580521Z",
     "start_time": "2022-03-02T23:33:52.278238Z"
    }
   },
   "outputs": [
    {
     "data": {
      "text/html": [
       "<div>\n",
       "<style scoped>\n",
       "    .dataframe tbody tr th:only-of-type {\n",
       "        vertical-align: middle;\n",
       "    }\n",
       "\n",
       "    .dataframe tbody tr th {\n",
       "        vertical-align: top;\n",
       "    }\n",
       "\n",
       "    .dataframe thead tr th {\n",
       "        text-align: left;\n",
       "    }\n",
       "\n",
       "    .dataframe thead tr:last-of-type th {\n",
       "        text-align: right;\n",
       "    }\n",
       "</style>\n",
       "<table border=\"1\" class=\"dataframe\">\n",
       "  <thead>\n",
       "    <tr>\n",
       "      <th></th>\n",
       "      <th>Quantity</th>\n",
       "      <th>Price</th>\n",
       "      <th colspan=\"2\" halign=\"left\">Revenue</th>\n",
       "    </tr>\n",
       "    <tr>\n",
       "      <th></th>\n",
       "      <th>sum</th>\n",
       "      <th>mean</th>\n",
       "      <th>sum</th>\n",
       "      <th>count</th>\n",
       "    </tr>\n",
       "    <tr>\n",
       "      <th>StockCode</th>\n",
       "      <th></th>\n",
       "      <th></th>\n",
       "      <th></th>\n",
       "      <th></th>\n",
       "    </tr>\n",
       "  </thead>\n",
       "  <tbody>\n",
       "    <tr>\n",
       "      <th>10002</th>\n",
       "      <td>6488</td>\n",
       "      <td>1.006262</td>\n",
       "      <td>5151.71</td>\n",
       "      <td>305</td>\n",
       "    </tr>\n",
       "    <tr>\n",
       "      <th>10080</th>\n",
       "      <td>315</td>\n",
       "      <td>0.505000</td>\n",
       "      <td>129.29</td>\n",
       "      <td>28</td>\n",
       "    </tr>\n",
       "    <tr>\n",
       "      <th>10109</th>\n",
       "      <td>4</td>\n",
       "      <td>0.420000</td>\n",
       "      <td>1.68</td>\n",
       "      <td>1</td>\n",
       "    </tr>\n",
       "    <tr>\n",
       "      <th>10120</th>\n",
       "      <td>622</td>\n",
       "      <td>0.241429</td>\n",
       "      <td>133.92</td>\n",
       "      <td>70</td>\n",
       "    </tr>\n",
       "    <tr>\n",
       "      <th>10125</th>\n",
       "      <td>1373</td>\n",
       "      <td>0.948323</td>\n",
       "      <td>1121.08</td>\n",
       "      <td>155</td>\n",
       "    </tr>\n",
       "    <tr>\n",
       "      <th>...</th>\n",
       "      <td>...</td>\n",
       "      <td>...</td>\n",
       "      <td>...</td>\n",
       "      <td>...</td>\n",
       "    </tr>\n",
       "    <tr>\n",
       "      <th>gift_0001_40</th>\n",
       "      <td>5</td>\n",
       "      <td>33.218000</td>\n",
       "      <td>166.09</td>\n",
       "      <td>5</td>\n",
       "    </tr>\n",
       "    <tr>\n",
       "      <th>gift_0001_50</th>\n",
       "      <td>6</td>\n",
       "      <td>42.265000</td>\n",
       "      <td>253.59</td>\n",
       "      <td>6</td>\n",
       "    </tr>\n",
       "    <tr>\n",
       "      <th>gift_0001_70</th>\n",
       "      <td>1</td>\n",
       "      <td>59.570000</td>\n",
       "      <td>59.57</td>\n",
       "      <td>1</td>\n",
       "    </tr>\n",
       "    <tr>\n",
       "      <th>gift_0001_80</th>\n",
       "      <td>1</td>\n",
       "      <td>69.560000</td>\n",
       "      <td>69.56</td>\n",
       "      <td>1</td>\n",
       "    </tr>\n",
       "    <tr>\n",
       "      <th>m</th>\n",
       "      <td>5</td>\n",
       "      <td>3.010000</td>\n",
       "      <td>15.05</td>\n",
       "      <td>5</td>\n",
       "    </tr>\n",
       "  </tbody>\n",
       "</table>\n",
       "<p>4906 rows × 4 columns</p>\n",
       "</div>"
      ],
      "text/plain": [
       "             Quantity      Price  Revenue      \n",
       "                  sum       mean      sum count\n",
       "StockCode                                      \n",
       "10002            6488   1.006262  5151.71   305\n",
       "10080             315   0.505000   129.29    28\n",
       "10109               4   0.420000     1.68     1\n",
       "10120             622   0.241429   133.92    70\n",
       "10125            1373   0.948323  1121.08   155\n",
       "...               ...        ...      ...   ...\n",
       "gift_0001_40        5  33.218000   166.09     5\n",
       "gift_0001_50        6  42.265000   253.59     6\n",
       "gift_0001_70        1  59.570000    59.57     1\n",
       "gift_0001_80        1  69.560000    69.56     1\n",
       "m                   5   3.010000    15.05     5\n",
       "\n",
       "[4906 rows x 4 columns]"
      ]
     },
     "execution_count": 27,
     "metadata": {},
     "output_type": "execute_result"
    }
   ],
   "source": [
    "# Check price, quantity, and revenue based on stock code\n",
    "# Calculate product's average price, total sold quantity, total revenue, and total number of purchase \n",
    "product = retail.groupby('StockCode').agg(\n",
    "    {'Quantity': 'sum', 'Price':'mean', 'Revenue': ['sum', 'count']})\n",
    "product"
   ]
  },
  {
   "cell_type": "code",
   "execution_count": 28,
   "metadata": {
    "ExecuteTime": {
     "end_time": "2022-03-02T23:33:56.350762Z",
     "start_time": "2022-03-02T23:33:52.590537Z"
    }
   },
   "outputs": [
    {
     "data": {
      "image/png": "[encoded data removed]",
      "text/plain": [
       "<Figure size 720x720 with 20 Axes>"
      ]
     },
     "metadata": {
      "needs_background": "light"
     },
     "output_type": "display_data"
    }
   ],
   "source": [
    "# Flatten the muli-level columns\n",
    "product.columns = [\"_\".join(a) for a in product.columns.to_flat_index()]\n",
    "\n",
    "# Check the distribution \n",
    "_ = sns.pairplot(product, diag_kind='kde')"
   ]
  },
  {
   "cell_type": "markdown",
   "metadata": {},
   "source": [
    "All features are right-skewed. As comparison, We will display the features' distribution after taking logarithm."
   ]
  },
  {
   "cell_type": "code",
   "execution_count": 29,
   "metadata": {
    "ExecuteTime": {
     "end_time": "2022-03-02T23:33:59.401412Z",
     "start_time": "2022-03-02T23:33:56.384033Z"
    }
   },
   "outputs": [
    {
     "data": {
      "image/png": "[encoded data removed]",
      "text/plain": [
       "<Figure size 720x720 with 20 Axes>"
      ]
     },
     "metadata": {
      "needs_background": "light"
     },
     "output_type": "display_data"
    }
   ],
   "source": [
    "# Take logarithm\n",
    "log_product = np.log(product)\n",
    "# The distribution after applying logarithm transformation \n",
    "_ = sns.pairplot(log_product, diag_kind='kde')"
   ]
  },
  {
   "cell_type": "markdown",
   "metadata": {},
   "source": [
    "## Time Series"
   ]
  },
  {
   "cell_type": "code",
   "execution_count": 30,
   "metadata": {
    "ExecuteTime": {
     "end_time": "2022-03-02T23:33:59.415628Z",
     "start_time": "2022-03-02T23:33:59.403737Z"
    },
    "scrolled": true
   },
   "outputs": [
    {
     "data": {
      "text/plain": [
       "0         2009-12-01 07:45:00\n",
       "1         2009-12-01 07:45:00\n",
       "2         2009-12-01 07:45:00\n",
       "3         2009-12-01 07:45:00\n",
       "4         2009-12-01 07:45:00\n",
       "                  ...        \n",
       "1067350   2011-12-09 12:31:00\n",
       "1067351   2011-12-09 12:49:00\n",
       "1067352   2011-12-09 12:49:00\n",
       "1067353   2011-12-09 12:49:00\n",
       "1067354   2011-12-09 12:49:00\n",
       "Name: InvoiceDate, Length: 926039, dtype: datetime64[ns]"
      ]
     },
     "execution_count": 30,
     "metadata": {},
     "output_type": "execute_result"
    }
   ],
   "source": [
    "retail.InvoiceDate"
   ]
  },
  {
   "cell_type": "markdown",
   "metadata": {},
   "source": [
    "For this project, the detailed time of the transactions is unnecessary, so we keep the date only."
   ]
  },
  {
   "cell_type": "code",
   "execution_count": 31,
   "metadata": {
    "ExecuteTime": {
     "end_time": "2022-03-02T23:33:59.856772Z",
     "start_time": "2022-03-02T23:33:59.423363Z"
    }
   },
   "outputs": [
    {
     "data": {
      "text/html": [
       "<div>\n",
       "<style scoped>\n",
       "    .dataframe tbody tr th:only-of-type {\n",
       "        vertical-align: middle;\n",
       "    }\n",
       "\n",
       "    .dataframe tbody tr th {\n",
       "        vertical-align: top;\n",
       "    }\n",
       "\n",
       "    .dataframe thead th {\n",
       "        text-align: right;\n",
       "    }\n",
       "</style>\n",
       "<table border=\"1\" class=\"dataframe\">\n",
       "  <thead>\n",
       "    <tr style=\"text-align: right;\">\n",
       "      <th></th>\n",
       "      <th>Invoice</th>\n",
       "      <th>StockCode</th>\n",
       "      <th>Description</th>\n",
       "      <th>Quantity</th>\n",
       "      <th>InvoiceDate</th>\n",
       "      <th>Price</th>\n",
       "      <th>CustomerID</th>\n",
       "      <th>Revenue</th>\n",
       "    </tr>\n",
       "  </thead>\n",
       "  <tbody>\n",
       "    <tr>\n",
       "      <th>1041825</th>\n",
       "      <td>579885</td>\n",
       "      <td>85034C</td>\n",
       "      <td>3 ROSE MORRIS BOXED CANDLES</td>\n",
       "      <td>4</td>\n",
       "      <td>2011-11-30 17:37:00</td>\n",
       "      <td>1.25</td>\n",
       "      <td>15444.0</td>\n",
       "      <td>5.00</td>\n",
       "    </tr>\n",
       "    <tr>\n",
       "      <th>1041826</th>\n",
       "      <td>579885</td>\n",
       "      <td>21742</td>\n",
       "      <td>LARGE ROUND WICKER PLATTER</td>\n",
       "      <td>2</td>\n",
       "      <td>2011-11-30 17:37:00</td>\n",
       "      <td>5.95</td>\n",
       "      <td>15444.0</td>\n",
       "      <td>11.90</td>\n",
       "    </tr>\n",
       "    <tr>\n",
       "      <th>1041827</th>\n",
       "      <td>579885</td>\n",
       "      <td>23084</td>\n",
       "      <td>RABBIT NIGHT LIGHT</td>\n",
       "      <td>6</td>\n",
       "      <td>2011-11-30 17:37:00</td>\n",
       "      <td>2.08</td>\n",
       "      <td>15444.0</td>\n",
       "      <td>12.48</td>\n",
       "    </tr>\n",
       "    <tr>\n",
       "      <th>1041828</th>\n",
       "      <td>579885</td>\n",
       "      <td>21257</td>\n",
       "      <td>VICTORIAN SEWING BOX MEDIUM</td>\n",
       "      <td>1</td>\n",
       "      <td>2011-11-30 17:37:00</td>\n",
       "      <td>7.95</td>\n",
       "      <td>15444.0</td>\n",
       "      <td>7.95</td>\n",
       "    </tr>\n",
       "    <tr>\n",
       "      <th>1041829</th>\n",
       "      <td>579885</td>\n",
       "      <td>21259</td>\n",
       "      <td>VICTORIAN SEWING BOX SMALL</td>\n",
       "      <td>1</td>\n",
       "      <td>2011-11-30 17:37:00</td>\n",
       "      <td>5.95</td>\n",
       "      <td>15444.0</td>\n",
       "      <td>5.95</td>\n",
       "    </tr>\n",
       "  </tbody>\n",
       "</table>\n",
       "</div>"
      ],
      "text/plain": [
       "        Invoice StockCode                  Description  Quantity  \\\n",
       "1041825  579885    85034C  3 ROSE MORRIS BOXED CANDLES         4   \n",
       "1041826  579885     21742  LARGE ROUND WICKER PLATTER          2   \n",
       "1041827  579885     23084           RABBIT NIGHT LIGHT         6   \n",
       "1041828  579885     21257  VICTORIAN SEWING BOX MEDIUM         1   \n",
       "1041829  579885     21259  VICTORIAN SEWING BOX SMALL          1   \n",
       "\n",
       "                InvoiceDate  Price  CustomerID  Revenue  \n",
       "1041825 2011-11-30 17:37:00   1.25     15444.0     5.00  \n",
       "1041826 2011-11-30 17:37:00   5.95     15444.0    11.90  \n",
       "1041827 2011-11-30 17:37:00   2.08     15444.0    12.48  \n",
       "1041828 2011-11-30 17:37:00   7.95     15444.0     7.95  \n",
       "1041829 2011-11-30 17:37:00   5.95     15444.0     5.95  "
      ]
     },
     "execution_count": 31,
     "metadata": {},
     "output_type": "execute_result"
    }
   ],
   "source": [
    "# Keep date only\n",
    "retail = retail[retail.InvoiceDate.dt.date<dt(2011,12,1).date()]\n",
    "# Check result\n",
    "retail.tail()"
   ]
  },
  {
   "cell_type": "code",
   "execution_count": 32,
   "metadata": {
    "ExecuteTime": {
     "end_time": "2022-03-02T23:34:00.331221Z",
     "start_time": "2022-03-02T23:33:59.861043Z"
    }
   },
   "outputs": [
    {
     "name": "stdout",
     "output_type": "stream",
     "text": [
      "<class 'pandas.core.frame.DataFrame'>\n",
      "Int64Index: 902723 entries, 0 to 1041829\n",
      "Data columns (total 8 columns):\n",
      " #   Column       Non-Null Count   Dtype         \n",
      "---  ------       --------------   -----         \n",
      " 0   Invoice      902723 non-null  object        \n",
      " 1   StockCode    902723 non-null  object        \n",
      " 2   Description  902723 non-null  object        \n",
      " 3   Quantity     902723 non-null  int64         \n",
      " 4   InvoiceDate  902723 non-null  datetime64[ns]\n",
      " 5   Price        902723 non-null  float64       \n",
      " 6   CustomerID   902723 non-null  float64       \n",
      " 7   Revenue      902723 non-null  float64       \n",
      "dtypes: datetime64[ns](1), float64(3), int64(1), object(3)\n",
      "memory usage: 62.0+ MB\n"
     ]
    }
   ],
   "source": [
    "retail.info()"
   ]
  },
  {
   "cell_type": "markdown",
   "metadata": {},
   "source": [
    "The last day of the dataset 12/09/2011, which means the data of the December 2011 is incomplete. The last month data will be removed such that we can do monthly performance analysis and time based cohort analysis in a right way."
   ]
  },
  {
   "cell_type": "code",
   "execution_count": 33,
   "metadata": {
    "ExecuteTime": {
     "end_time": "2022-03-02T23:34:00.795041Z",
     "start_time": "2022-03-02T23:34:00.333840Z"
    }
   },
   "outputs": [
    {
     "data": {
      "text/html": [
       "<div>\n",
       "<style scoped>\n",
       "    .dataframe tbody tr th:only-of-type {\n",
       "        vertical-align: middle;\n",
       "    }\n",
       "\n",
       "    .dataframe tbody tr th {\n",
       "        vertical-align: top;\n",
       "    }\n",
       "\n",
       "    .dataframe thead th {\n",
       "        text-align: right;\n",
       "    }\n",
       "</style>\n",
       "<table border=\"1\" class=\"dataframe\">\n",
       "  <thead>\n",
       "    <tr style=\"text-align: right;\">\n",
       "      <th></th>\n",
       "      <th>Invoice</th>\n",
       "      <th>StockCode</th>\n",
       "      <th>Description</th>\n",
       "      <th>Quantity</th>\n",
       "      <th>InvoiceDate</th>\n",
       "      <th>Price</th>\n",
       "      <th>CustomerID</th>\n",
       "      <th>Revenue</th>\n",
       "    </tr>\n",
       "  </thead>\n",
       "  <tbody>\n",
       "    <tr>\n",
       "      <th>1041825</th>\n",
       "      <td>579885</td>\n",
       "      <td>85034C</td>\n",
       "      <td>3 ROSE MORRIS BOXED CANDLES</td>\n",
       "      <td>4</td>\n",
       "      <td>2011-11-30 17:37:00</td>\n",
       "      <td>1.25</td>\n",
       "      <td>15444.0</td>\n",
       "      <td>5.00</td>\n",
       "    </tr>\n",
       "    <tr>\n",
       "      <th>1041826</th>\n",
       "      <td>579885</td>\n",
       "      <td>21742</td>\n",
       "      <td>LARGE ROUND WICKER PLATTER</td>\n",
       "      <td>2</td>\n",
       "      <td>2011-11-30 17:37:00</td>\n",
       "      <td>5.95</td>\n",
       "      <td>15444.0</td>\n",
       "      <td>11.90</td>\n",
       "    </tr>\n",
       "    <tr>\n",
       "      <th>1041827</th>\n",
       "      <td>579885</td>\n",
       "      <td>23084</td>\n",
       "      <td>RABBIT NIGHT LIGHT</td>\n",
       "      <td>6</td>\n",
       "      <td>2011-11-30 17:37:00</td>\n",
       "      <td>2.08</td>\n",
       "      <td>15444.0</td>\n",
       "      <td>12.48</td>\n",
       "    </tr>\n",
       "    <tr>\n",
       "      <th>1041828</th>\n",
       "      <td>579885</td>\n",
       "      <td>21257</td>\n",
       "      <td>VICTORIAN SEWING BOX MEDIUM</td>\n",
       "      <td>1</td>\n",
       "      <td>2011-11-30 17:37:00</td>\n",
       "      <td>7.95</td>\n",
       "      <td>15444.0</td>\n",
       "      <td>7.95</td>\n",
       "    </tr>\n",
       "    <tr>\n",
       "      <th>1041829</th>\n",
       "      <td>579885</td>\n",
       "      <td>21259</td>\n",
       "      <td>VICTORIAN SEWING BOX SMALL</td>\n",
       "      <td>1</td>\n",
       "      <td>2011-11-30 17:37:00</td>\n",
       "      <td>5.95</td>\n",
       "      <td>15444.0</td>\n",
       "      <td>5.95</td>\n",
       "    </tr>\n",
       "  </tbody>\n",
       "</table>\n",
       "</div>"
      ],
      "text/plain": [
       "        Invoice StockCode                  Description  Quantity  \\\n",
       "1041825  579885    85034C  3 ROSE MORRIS BOXED CANDLES         4   \n",
       "1041826  579885     21742  LARGE ROUND WICKER PLATTER          2   \n",
       "1041827  579885     23084           RABBIT NIGHT LIGHT         6   \n",
       "1041828  579885     21257  VICTORIAN SEWING BOX MEDIUM         1   \n",
       "1041829  579885     21259  VICTORIAN SEWING BOX SMALL          1   \n",
       "\n",
       "                InvoiceDate  Price  CustomerID  Revenue  \n",
       "1041825 2011-11-30 17:37:00   1.25     15444.0     5.00  \n",
       "1041826 2011-11-30 17:37:00   5.95     15444.0    11.90  \n",
       "1041827 2011-11-30 17:37:00   2.08     15444.0    12.48  \n",
       "1041828 2011-11-30 17:37:00   7.95     15444.0     7.95  \n",
       "1041829 2011-11-30 17:37:00   5.95     15444.0     5.95  "
      ]
     },
     "execution_count": 33,
     "metadata": {},
     "output_type": "execute_result"
    }
   ],
   "source": [
    "# Keep the data before December 2011\n",
    "retail = retail[retail.InvoiceDate.dt.date < dt(2011,12,1).date()]\n",
    "# Check result\n",
    "retail.tail()"
   ]
  },
  {
   "cell_type": "markdown",
   "metadata": {},
   "source": [
    "**The following part can be used for market basket analysis, which was not included in this project**"
   ]
  },
  {
   "cell_type": "markdown",
   "metadata": {},
   "source": [
    "## Stock Code and Description"
   ]
  },
  {
   "cell_type": "code",
   "execution_count": 34,
   "metadata": {
    "ExecuteTime": {
     "end_time": "2022-03-02T23:34:00.925927Z",
     "start_time": "2022-03-02T23:34:00.799285Z"
    }
   },
   "outputs": [
    {
     "data": {
      "text/plain": [
       "85123A    5241\n",
       "85099B    3715\n",
       "22423     3417\n",
       "20725     2746\n",
       "21212     2740\n",
       "          ... \n",
       "21772        1\n",
       "84614C       1\n",
       "85043        1\n",
       "21290        1\n",
       "23617        1\n",
       "Name: StockCode, Length: 4905, dtype: int64"
      ]
     },
     "execution_count": 34,
     "metadata": {},
     "output_type": "execute_result"
    }
   ],
   "source": [
    "retail.StockCode.value_counts()"
   ]
  },
  {
   "cell_type": "code",
   "execution_count": 35,
   "metadata": {
    "ExecuteTime": {
     "end_time": "2022-03-02T23:34:01.041487Z",
     "start_time": "2022-03-02T23:34:00.933850Z"
    }
   },
   "outputs": [
    {
     "data": {
      "text/plain": [
       "Series([], Name: Description, dtype: int64)"
      ]
     },
     "execution_count": 35,
     "metadata": {},
     "output_type": "execute_result"
    }
   ],
   "source": [
    "retail[retail.StockCode=='22423'].Description.value_counts()"
   ]
  },
  {
   "cell_type": "code",
   "execution_count": 36,
   "metadata": {
    "ExecuteTime": {
     "end_time": "2022-03-02T23:34:01.140195Z",
     "start_time": "2022-03-02T23:34:01.047366Z"
    }
   },
   "outputs": [
    {
     "data": {
      "text/plain": [
       "REGENCY CAKESTAND 3 TIER    3417\n",
       "Name: Description, dtype: int64"
      ]
     },
     "execution_count": 36,
     "metadata": {},
     "output_type": "execute_result"
    }
   ],
   "source": [
    "retail[retail.StockCode==22423].Description.value_counts()"
   ]
  },
  {
   "cell_type": "code",
   "execution_count": 37,
   "metadata": {
    "ExecuteTime": {
     "end_time": "2022-03-02T23:34:01.509321Z",
     "start_time": "2022-03-02T23:34:01.143267Z"
    }
   },
   "outputs": [],
   "source": [
    "retail.loc[:, 'StockCode'] = retail.StockCode.apply(lambda x: str(x))"
   ]
  },
  {
   "cell_type": "code",
   "execution_count": 38,
   "metadata": {
    "ExecuteTime": {
     "end_time": "2022-03-02T23:34:01.519006Z",
     "start_time": "2022-03-02T23:34:01.511641Z"
    }
   },
   "outputs": [
    {
     "data": {
      "text/plain": [
       "dtype('O')"
      ]
     },
     "execution_count": 38,
     "metadata": {},
     "output_type": "execute_result"
    }
   ],
   "source": [
    "retail.StockCode.dtype"
   ]
  },
  {
   "cell_type": "code",
   "execution_count": 39,
   "metadata": {
    "ExecuteTime": {
     "end_time": "2022-03-02T23:34:01.597622Z",
     "start_time": "2022-03-02T23:34:01.521648Z"
    }
   },
   "outputs": [
    {
     "data": {
      "text/plain": [
       "REGENCY CAKESTAND 3 TIER    3417\n",
       "Name: Description, dtype: int64"
      ]
     },
     "execution_count": 39,
     "metadata": {},
     "output_type": "execute_result"
    }
   ],
   "source": [
    "retail[retail.StockCode=='22423'].Description.value_counts()"
   ]
  },
  {
   "cell_type": "markdown",
   "metadata": {},
   "source": [
    "### Unique Stock Code and Description"
   ]
  },
  {
   "cell_type": "code",
   "execution_count": 40,
   "metadata": {
    "ExecuteTime": {
     "end_time": "2022-03-02T23:34:01.677130Z",
     "start_time": "2022-03-02T23:34:01.600609Z"
    }
   },
   "outputs": [
    {
     "data": {
      "text/plain": [
       "4905"
      ]
     },
     "execution_count": 40,
     "metadata": {},
     "output_type": "execute_result"
    }
   ],
   "source": [
    "# Check the number of unique stock code\n",
    "retail.StockCode.nunique()"
   ]
  },
  {
   "cell_type": "code",
   "execution_count": 41,
   "metadata": {
    "ExecuteTime": {
     "end_time": "2022-03-02T23:34:01.784712Z",
     "start_time": "2022-03-02T23:34:01.679800Z"
    }
   },
   "outputs": [
    {
     "data": {
      "text/plain": [
       "5367"
      ]
     },
     "execution_count": 41,
     "metadata": {},
     "output_type": "execute_result"
    }
   ],
   "source": [
    "# Check the number of unique description\n",
    "retail.Description.nunique()"
   ]
  },
  {
   "cell_type": "markdown",
   "metadata": {},
   "source": [
    "According to the column description, `StockCode` is a 5-digit integral number uniquely assigned to each distinct product (item), and `Description` is product (item) name. Actually, many stock codes contains letters. Besides, the number of unique stock code is less than the number of unique description. Let's take the stock code '85099B' as an example."
   ]
  },
  {
   "cell_type": "markdown",
   "metadata": {},
   "source": [
    "### Same or SImilar Stock Codes with Different Description"
   ]
  },
  {
   "cell_type": "code",
   "execution_count": 42,
   "metadata": {
    "ExecuteTime": {
     "end_time": "2022-03-02T23:34:01.862811Z",
     "start_time": "2022-03-02T23:34:01.787986Z"
    }
   },
   "outputs": [
    {
     "data": {
      "text/plain": [
       "JUMBO BAG RED RETROSPOT        3014\n",
       "JUMBO BAG RED WHITE SPOTTY      505\n",
       "RED RETROSPOT JUMBO BAG         196\n",
       "Name: Description, dtype: int64"
      ]
     },
     "execution_count": 42,
     "metadata": {},
     "output_type": "execute_result"
    }
   ],
   "source": [
    "# Check the description with the same stock code\n",
    "retail[retail.StockCode=='85099B'].Description.value_counts()"
   ]
  },
  {
   "cell_type": "code",
   "execution_count": 43,
   "metadata": {
    "ExecuteTime": {
     "end_time": "2022-03-02T23:34:02.358516Z",
     "start_time": "2022-03-02T23:34:01.870390Z"
    }
   },
   "outputs": [
    {
     "data": {
      "text/plain": [
       "85099B    3715\n",
       "85099C    1814\n",
       "85099F    1762\n",
       "85099b      25\n",
       "85099f      25\n",
       "85099c      10\n",
       "Name: StockCode, dtype: int64"
      ]
     },
     "execution_count": 43,
     "metadata": {},
     "output_type": "execute_result"
    }
   ],
   "source": [
    "# Check the stock codes starting with the same 5-digit number\n",
    "retail[retail.StockCode.str.startswith('85099')].StockCode.value_counts()"
   ]
  },
  {
   "cell_type": "code",
   "execution_count": 44,
   "metadata": {
    "ExecuteTime": {
     "end_time": "2022-03-02T23:34:02.430602Z",
     "start_time": "2022-03-02T23:34:02.361367Z"
    }
   },
   "outputs": [
    {
     "data": {
      "text/plain": [
       "JUMBO BAG STRAWBERRY    1762\n",
       "Name: Description, dtype: int64"
      ]
     },
     "execution_count": 44,
     "metadata": {},
     "output_type": "execute_result"
    }
   ],
   "source": [
    "# Compare the description with the same ending letter but different capitalization\n",
    "# Ending with F\n",
    "retail[retail.StockCode=='85099F'].Description.value_counts()"
   ]
  },
  {
   "cell_type": "code",
   "execution_count": 45,
   "metadata": {
    "ExecuteTime": {
     "end_time": "2022-03-02T23:34:02.504721Z",
     "start_time": "2022-03-02T23:34:02.433670Z"
    }
   },
   "outputs": [
    {
     "data": {
      "text/plain": [
       "JUMBO BAG STRAWBERRY    25\n",
       "Name: Description, dtype: int64"
      ]
     },
     "execution_count": 45,
     "metadata": {},
     "output_type": "execute_result"
    }
   ],
   "source": [
    "# Ending with f\n",
    "retail[retail.StockCode=='85099f'].Description.value_counts()"
   ]
  },
  {
   "cell_type": "markdown",
   "metadata": {},
   "source": [
    "As we can see, the same stock code may have different description, and the letter-ending stock code may belong to a stock code group where all the codes start with the same 5-digit number and end with different letters(upper case or lower case). In some cases, the products may have the same description but different stock code."
   ]
  },
  {
   "cell_type": "markdown",
   "metadata": {},
   "source": [
    "Let's check the stock code with only 5-digit number."
   ]
  },
  {
   "cell_type": "code",
   "execution_count": 46,
   "metadata": {
    "ExecuteTime": {
     "end_time": "2022-03-02T23:34:02.585789Z",
     "start_time": "2022-03-02T23:34:02.508919Z"
    }
   },
   "outputs": [
    {
     "data": {
      "text/plain": [
       "LUNCH BAG RED RETROSPOT    1628\n",
       "LUNCH BAG RED SPOTTY       1118\n",
       "Name: Description, dtype: int64"
      ]
     },
     "execution_count": 46,
     "metadata": {},
     "output_type": "execute_result"
    }
   ],
   "source": [
    "retail[retail.StockCode=='20725'].Description.value_counts()"
   ]
  },
  {
   "cell_type": "markdown",
   "metadata": {},
   "source": [
    "The same stock code that contains number only may also have different description."
   ]
  },
  {
   "cell_type": "markdown",
   "metadata": {},
   "source": [
    "Generally, the different descriptions corresponding to a same special stock code or similar stock codes describe the details of a product, such as color or pattern."
   ]
  },
  {
   "cell_type": "markdown",
   "metadata": {},
   "source": [
    "### Same Description with Different Description"
   ]
  },
  {
   "cell_type": "code",
   "execution_count": 47,
   "metadata": {
    "ExecuteTime": {
     "end_time": "2022-03-02T23:39:32.585402Z",
     "start_time": "2022-03-02T23:34:02.588530Z"
    }
   },
   "outputs": [
    {
     "data": {
      "text/plain": [
       "225"
      ]
     },
     "execution_count": 47,
     "metadata": {},
     "output_type": "execute_result"
    }
   ],
   "source": [
    "# The unique description\n",
    "unique_des = retail.Description.unique()\n",
    "\n",
    "# Build a dict to store the description that correspond to more than one stock codes\n",
    "des_sc = {}\n",
    "for des in unique_des:\n",
    "    nunique_sc = retail[retail.Description == des].StockCode.nunique()\n",
    "    if nunique_sc > 1:\n",
    "        des_sc[des] = retail[retail.Description == des].StockCode.value_counts().index\n",
    "\n",
    "len(des_sc)"
   ]
  },
  {
   "cell_type": "markdown",
   "metadata": {},
   "source": [
    "There are totally 225 unique descriptions that have different stock codes. Let's check them in further details."
   ]
  },
  {
   "cell_type": "code",
   "execution_count": 48,
   "metadata": {
    "ExecuteTime": {
     "end_time": "2022-03-02T23:39:32.620057Z",
     "start_time": "2022-03-02T23:39:32.589024Z"
    }
   },
   "outputs": [
    {
     "data": {
      "text/html": [
       "<div>\n",
       "<style scoped>\n",
       "    .dataframe tbody tr th:only-of-type {\n",
       "        vertical-align: middle;\n",
       "    }\n",
       "\n",
       "    .dataframe tbody tr th {\n",
       "        vertical-align: top;\n",
       "    }\n",
       "\n",
       "    .dataframe thead th {\n",
       "        text-align: right;\n",
       "    }\n",
       "</style>\n",
       "<table border=\"1\" class=\"dataframe\">\n",
       "  <thead>\n",
       "    <tr style=\"text-align: right;\">\n",
       "      <th></th>\n",
       "      <th>0</th>\n",
       "      <th>1</th>\n",
       "      <th>2</th>\n",
       "      <th>3</th>\n",
       "      <th>4</th>\n",
       "      <th>5</th>\n",
       "    </tr>\n",
       "  </thead>\n",
       "  <tbody>\n",
       "    <tr>\n",
       "      <th>WHITE BIRD GARDEN DESIGN MUG</th>\n",
       "      <td>85160A</td>\n",
       "      <td>85160a</td>\n",
       "      <td>None</td>\n",
       "      <td>None</td>\n",
       "      <td>None</td>\n",
       "      <td>None</td>\n",
       "    </tr>\n",
       "    <tr>\n",
       "      <th>3D SHEET OF CAT STICKERS</th>\n",
       "      <td>84559B</td>\n",
       "      <td>84559b</td>\n",
       "      <td>None</td>\n",
       "      <td>None</td>\n",
       "      <td>None</td>\n",
       "      <td>None</td>\n",
       "    </tr>\n",
       "    <tr>\n",
       "      <th>RED RETROSPOT UMBRELLA</th>\n",
       "      <td>85014B</td>\n",
       "      <td>85014b</td>\n",
       "      <td>None</td>\n",
       "      <td>None</td>\n",
       "      <td>None</td>\n",
       "      <td>None</td>\n",
       "    </tr>\n",
       "    <tr>\n",
       "      <th>DOORMAT BLACK FLOCK</th>\n",
       "      <td>48173C</td>\n",
       "      <td>48173c</td>\n",
       "      <td>None</td>\n",
       "      <td>None</td>\n",
       "      <td>None</td>\n",
       "      <td>None</td>\n",
       "    </tr>\n",
       "    <tr>\n",
       "      <th>ENAMEL PINK TEA CONTAINER</th>\n",
       "      <td>35809A</td>\n",
       "      <td>35809a</td>\n",
       "      <td>None</td>\n",
       "      <td>None</td>\n",
       "      <td>None</td>\n",
       "      <td>None</td>\n",
       "    </tr>\n",
       "    <tr>\n",
       "      <th>S/4 VALENTINE DECOUPAGE HEART BOX</th>\n",
       "      <td>85184C</td>\n",
       "      <td>85184c</td>\n",
       "      <td>None</td>\n",
       "      <td>None</td>\n",
       "      <td>None</td>\n",
       "      <td>None</td>\n",
       "    </tr>\n",
       "    <tr>\n",
       "      <th>SET/6 PURPLE BUTTERFLY T-LIGHTS</th>\n",
       "      <td>72349B</td>\n",
       "      <td>72349b</td>\n",
       "      <td>None</td>\n",
       "      <td>None</td>\n",
       "      <td>None</td>\n",
       "      <td>None</td>\n",
       "    </tr>\n",
       "    <tr>\n",
       "      <th>COLUMBIAN CANDLE ROUND</th>\n",
       "      <td>72128</td>\n",
       "      <td>72130</td>\n",
       "      <td>None</td>\n",
       "      <td>None</td>\n",
       "      <td>None</td>\n",
       "      <td>None</td>\n",
       "    </tr>\n",
       "    <tr>\n",
       "      <th>BLUE 3 PIECE POLKADOT CUTLERY SET</th>\n",
       "      <td>84997C</td>\n",
       "      <td>84997c</td>\n",
       "      <td>None</td>\n",
       "      <td>None</td>\n",
       "      <td>None</td>\n",
       "      <td>None</td>\n",
       "    </tr>\n",
       "    <tr>\n",
       "      <th>S/4 BURGUNDY WINE DINNER CANDLES</th>\n",
       "      <td>72801G</td>\n",
       "      <td>72801g</td>\n",
       "      <td>None</td>\n",
       "      <td>None</td>\n",
       "      <td>None</td>\n",
       "      <td>None</td>\n",
       "    </tr>\n",
       "    <tr>\n",
       "      <th>DOOR MAT BLACK FLOCK</th>\n",
       "      <td>48173C</td>\n",
       "      <td>48173c</td>\n",
       "      <td>None</td>\n",
       "      <td>None</td>\n",
       "      <td>None</td>\n",
       "      <td>None</td>\n",
       "    </tr>\n",
       "    <tr>\n",
       "      <th>SMALL DOLLY MIX DESIGN ORANGE BOWL</th>\n",
       "      <td>84596B</td>\n",
       "      <td>84596b</td>\n",
       "      <td>None</td>\n",
       "      <td>None</td>\n",
       "      <td>None</td>\n",
       "      <td>None</td>\n",
       "    </tr>\n",
       "    <tr>\n",
       "      <th>75 BLACK FAIRY CAKE CASES</th>\n",
       "      <td>84989B</td>\n",
       "      <td>84989b</td>\n",
       "      <td>None</td>\n",
       "      <td>None</td>\n",
       "      <td>None</td>\n",
       "      <td>None</td>\n",
       "    </tr>\n",
       "    <tr>\n",
       "      <th>RED 3 PIECE RETROSPOT CUTLERY SET</th>\n",
       "      <td>84997B</td>\n",
       "      <td>84997b</td>\n",
       "      <td>None</td>\n",
       "      <td>None</td>\n",
       "      <td>None</td>\n",
       "      <td>None</td>\n",
       "    </tr>\n",
       "    <tr>\n",
       "      <th>LUSH GREENS RIBBONS</th>\n",
       "      <td>85049B</td>\n",
       "      <td>85049b</td>\n",
       "      <td>None</td>\n",
       "      <td>None</td>\n",
       "      <td>None</td>\n",
       "      <td>None</td>\n",
       "    </tr>\n",
       "    <tr>\n",
       "      <th>SMALL LICORICE DES PINK BOWL</th>\n",
       "      <td>84596E</td>\n",
       "      <td>84596e</td>\n",
       "      <td>None</td>\n",
       "      <td>None</td>\n",
       "      <td>None</td>\n",
       "      <td>None</td>\n",
       "    </tr>\n",
       "    <tr>\n",
       "      <th>FRENCH FLORAL CUSHION COVER</th>\n",
       "      <td>20840</td>\n",
       "      <td>20837</td>\n",
       "      <td>None</td>\n",
       "      <td>None</td>\n",
       "      <td>None</td>\n",
       "      <td>None</td>\n",
       "    </tr>\n",
       "    <tr>\n",
       "      <th>METAL SIGN,CUPCAKE SINGLE HOOK</th>\n",
       "      <td>82613B</td>\n",
       "      <td>82613C</td>\n",
       "      <td>82613A</td>\n",
       "      <td>82613c</td>\n",
       "      <td>82613b</td>\n",
       "      <td>82613a</td>\n",
       "    </tr>\n",
       "    <tr>\n",
       "      <th>SET OF 4 POLKADOT COASTERS</th>\n",
       "      <td>84510C</td>\n",
       "      <td>84510c</td>\n",
       "      <td>None</td>\n",
       "      <td>None</td>\n",
       "      <td>None</td>\n",
       "      <td>None</td>\n",
       "    </tr>\n",
       "    <tr>\n",
       "      <th>Manual</th>\n",
       "      <td>M</td>\n",
       "      <td>m</td>\n",
       "      <td>None</td>\n",
       "      <td>None</td>\n",
       "      <td>None</td>\n",
       "      <td>None</td>\n",
       "    </tr>\n",
       "  </tbody>\n",
       "</table>\n",
       "</div>"
      ],
      "text/plain": [
       "                                         0       1       2       3       4  \\\n",
       "WHITE BIRD GARDEN DESIGN MUG        85160A  85160a    None    None    None   \n",
       "3D SHEET OF CAT STICKERS            84559B  84559b    None    None    None   \n",
       "RED RETROSPOT UMBRELLA              85014B  85014b    None    None    None   \n",
       "DOORMAT BLACK FLOCK                 48173C  48173c    None    None    None   \n",
       "ENAMEL PINK TEA CONTAINER           35809A  35809a    None    None    None   \n",
       "S/4 VALENTINE DECOUPAGE HEART BOX   85184C  85184c    None    None    None   \n",
       "SET/6 PURPLE BUTTERFLY T-LIGHTS     72349B  72349b    None    None    None   \n",
       "COLUMBIAN CANDLE ROUND               72128   72130    None    None    None   \n",
       "BLUE 3 PIECE POLKADOT CUTLERY SET   84997C  84997c    None    None    None   \n",
       "S/4 BURGUNDY WINE DINNER CANDLES    72801G  72801g    None    None    None   \n",
       "DOOR MAT BLACK FLOCK                48173C  48173c    None    None    None   \n",
       "SMALL DOLLY MIX DESIGN ORANGE BOWL  84596B  84596b    None    None    None   \n",
       "75 BLACK FAIRY CAKE CASES           84989B  84989b    None    None    None   \n",
       "RED 3 PIECE RETROSPOT CUTLERY SET   84997B  84997b    None    None    None   \n",
       "LUSH GREENS RIBBONS                 85049B  85049b    None    None    None   \n",
       "SMALL LICORICE DES PINK BOWL        84596E  84596e    None    None    None   \n",
       "FRENCH FLORAL CUSHION COVER          20840   20837    None    None    None   \n",
       "METAL SIGN,CUPCAKE SINGLE HOOK      82613B  82613C  82613A  82613c  82613b   \n",
       "SET OF 4 POLKADOT COASTERS          84510C  84510c    None    None    None   \n",
       "Manual                                   M       m    None    None    None   \n",
       "\n",
       "                                         5  \n",
       "WHITE BIRD GARDEN DESIGN MUG          None  \n",
       "3D SHEET OF CAT STICKERS              None  \n",
       "RED RETROSPOT UMBRELLA                None  \n",
       "DOORMAT BLACK FLOCK                   None  \n",
       "ENAMEL PINK TEA CONTAINER             None  \n",
       "S/4 VALENTINE DECOUPAGE HEART BOX     None  \n",
       "SET/6 PURPLE BUTTERFLY T-LIGHTS       None  \n",
       "COLUMBIAN CANDLE ROUND                None  \n",
       "BLUE 3 PIECE POLKADOT CUTLERY SET     None  \n",
       "S/4 BURGUNDY WINE DINNER CANDLES      None  \n",
       "DOOR MAT BLACK FLOCK                  None  \n",
       "SMALL DOLLY MIX DESIGN ORANGE BOWL    None  \n",
       "75 BLACK FAIRY CAKE CASES             None  \n",
       "RED 3 PIECE RETROSPOT CUTLERY SET     None  \n",
       "LUSH GREENS RIBBONS                   None  \n",
       "SMALL LICORICE DES PINK BOWL          None  \n",
       "FRENCH FLORAL CUSHION COVER           None  \n",
       "METAL SIGN,CUPCAKE SINGLE HOOK      82613a  \n",
       "SET OF 4 POLKADOT COASTERS            None  \n",
       "Manual                                None  "
      ]
     },
     "execution_count": 48,
     "metadata": {},
     "output_type": "execute_result"
    }
   ],
   "source": [
    "# Take 20 random samples\n",
    "pd.DataFrame.from_dict(des_sc, orient='index').sample(20)"
   ]
  },
  {
   "cell_type": "markdown",
   "metadata": {},
   "source": [
    "It's seems that most of the descriptions have 2 different stock codes. The major difference is the ending-letter capitalization. There is also difference between the 5-digit numbers."
   ]
  },
  {
   "cell_type": "markdown",
   "metadata": {},
   "source": [
    "The number of different stock codes corresponding to the same description is up to 5. "
   ]
  },
  {
   "cell_type": "code",
   "execution_count": 49,
   "metadata": {
    "ExecuteTime": {
     "end_time": "2022-03-02T23:39:32.637798Z",
     "start_time": "2022-03-02T23:39:32.625294Z"
    }
   },
   "outputs": [
    {
     "data": {
      "text/plain": [
       "{'COLOURING PENCILS BROWN TUBE': Index(['10135', '10133', '10134'], dtype='object'),\n",
       " 'METAL SIGN,CUPCAKE SINGLE HOOK': Index(['82613B', '82613C', '82613A', '82613c', '82613b', '82613a'], dtype='object'),\n",
       " 'WHITE BAMBOO RIBS LAMPSHADE': Index(['40001', '40003', '40002'], dtype='object')}"
      ]
     },
     "execution_count": 49,
     "metadata": {},
     "output_type": "execute_result"
    }
   ],
   "source": [
    "# Check the description that has more than 2 stock codes.\n",
    "sc_more_than_2 = {}\n",
    "for k, v in des_sc.items():\n",
    "    if len(v) > 2:\n",
    "        sc_more_than_2[k] = v\n",
    "sc_more_than_2      "
   ]
  },
  {
   "cell_type": "markdown",
   "metadata": {},
   "source": [
    "Only three products have the same description with more than 3 stock codes. \n",
    "\n",
    "What we most care about is if the products with same description but different stock codes have special pattern, which may distinguish these products from the others. Let's take a look at the numeric features' statistics."
   ]
  },
  {
   "cell_type": "code",
   "execution_count": 50,
   "metadata": {
    "ExecuteTime": {
     "end_time": "2022-03-02T23:39:39.776802Z",
     "start_time": "2022-03-02T23:39:32.648722Z"
    }
   },
   "outputs": [],
   "source": [
    "# Separate the transactions of the products that have the same description and different stock codes\n",
    "same_des_diff_sc = retail[retail.Description.apply(lambda x: x in list(des_sc.keys()))]"
   ]
  },
  {
   "cell_type": "code",
   "execution_count": 51,
   "metadata": {
    "ExecuteTime": {
     "end_time": "2022-03-02T23:39:39.799153Z",
     "start_time": "2022-03-02T23:39:39.780877Z"
    }
   },
   "outputs": [
    {
     "data": {
      "text/plain": [
       "0.06754009812533857"
      ]
     },
     "execution_count": 51,
     "metadata": {},
     "output_type": "execute_result"
    }
   ],
   "source": [
    "# The size ratio \n",
    "same_des_diff_sc.shape[0] / retail.shape[0]"
   ]
  },
  {
   "cell_type": "code",
   "execution_count": 52,
   "metadata": {
    "ExecuteTime": {
     "end_time": "2022-03-02T23:39:40.009681Z",
     "start_time": "2022-03-02T23:39:39.804103Z"
    }
   },
   "outputs": [
    {
     "name": "stdout",
     "output_type": "stream",
     "text": [
      "           Quantity         Price\n",
      "count  60970.000000  60970.000000\n",
      "mean       9.486239      7.366343\n",
      "std       41.387369    164.991435\n",
      "min        1.000000      0.060000\n",
      "25%        1.000000      1.630000\n",
      "50%        3.000000      2.950000\n",
      "75%        8.000000      4.250000\n",
      "max     4320.000000  25111.090000\n",
      "            Quantity          Price\n",
      "count  902723.000000  902723.000000\n",
      "mean        9.860305       4.014003\n",
      "std        92.984582      50.206999\n",
      "min         1.000000       0.001000\n",
      "25%         1.000000       1.250000\n",
      "50%         3.000000       2.100000\n",
      "75%        10.000000       4.150000\n",
      "max     74215.000000   25111.090000\n"
     ]
    }
   ],
   "source": [
    "# The numeric features' statistcs\n",
    "print(same_des_diff_sc[['Quantity','Price']].describe())\n",
    "print(retail[['Quantity','Price']].describe())"
   ]
  },
  {
   "cell_type": "markdown",
   "metadata": {},
   "source": [
    "About 6.7% of the total transactions are related to the products that have the same description but different stock codes. The statistics shows that there's no significant difference between these products and the others. Since stock code and description have no impact on our following cohort, customer life value, and RFM analysis, we will ignore them for now."
   ]
  },
  {
   "cell_type": "markdown",
   "metadata": {},
   "source": [
    "But are there any other special stock codes that are not composed with a 5-digit number and/or 1 ending letter?"
   ]
  },
  {
   "cell_type": "markdown",
   "metadata": {},
   "source": [
    "### Abnormal Stack Code"
   ]
  },
  {
   "cell_type": "code",
   "execution_count": 53,
   "metadata": {
    "ExecuteTime": {
     "end_time": "2022-03-02T23:39:40.153566Z",
     "start_time": "2022-03-02T23:39:40.048784Z"
    }
   },
   "outputs": [],
   "source": [
    "unique_sc = retail.StockCode.unique()\n",
    "\n",
    "normal_sc = []\n",
    "for sc in unique_sc:\n",
    "    if len(sc) == 5 and sc.isnumeric():\n",
    "        normal_sc.append(sc)\n",
    "    elif len(sc) == 6 and sc[:5].isnumeric() and sc[-1].isalpha():\n",
    "        normal_sc.append(sc)"
   ]
  },
  {
   "cell_type": "code",
   "execution_count": 54,
   "metadata": {
    "ExecuteTime": {
     "end_time": "2022-03-02T23:39:41.680469Z",
     "start_time": "2022-03-02T23:39:40.156499Z"
    }
   },
   "outputs": [
    {
     "data": {
      "text/plain": [
       "DOT             1399\n",
       "15056BL          745\n",
       "M                741\n",
       "79323LP          160\n",
       "15056bl           85\n",
       "POST              79\n",
       "79323GR           79\n",
       "C2                58\n",
       "BANK CHARGES      32\n",
       "DCGS0058          30\n",
       "gift_0001_20      26\n",
       "gift_0001_30      24\n",
       "DCGSSGIRL         23\n",
       "DCGSSBOY          20\n",
       "PADS              16\n",
       "DCGS0076          14\n",
       "DCGS0003          13\n",
       "gift_0001_10      13\n",
       "ADJUST            12\n",
       "TEST001            9\n",
       "gift_0001_50       6\n",
       "DCGS0069           5\n",
       "m                  5\n",
       "D                  5\n",
       "gift_0001_40       5\n",
       "DCGS0004           4\n",
       "ADJUST2            3\n",
       "S                  3\n",
       "AMAZONFEE          3\n",
       "DCGS0072           3\n",
       "SP1002             2\n",
       "DCGS0066N          2\n",
       "DCGS0070           2\n",
       "DCGS0068           2\n",
       "DCGS0041           1\n",
       "gift_0001_70       1\n",
       "DCGS0037           1\n",
       "DCGS0075           1\n",
       "TEST002            1\n",
       "47503J             1\n",
       "DCGS0044           1\n",
       "gift_0001_80       1\n",
       "DCGS0062           1\n",
       "B                  1\n",
       "Name: StockCode, dtype: int64"
      ]
     },
     "execution_count": 54,
     "metadata": {},
     "output_type": "execute_result"
    }
   ],
   "source": [
    "abnomal_sc_list = [x for x in unique_sc if x not in normal_sc]\n",
    "abnomal_sc_data = retail[retail.StockCode.apply(lambda x: x in abnomal_sc_list)]\n",
    "abnomal_sc_data.StockCode.value_counts()"
   ]
  },
  {
   "cell_type": "markdown",
   "metadata": {},
   "source": [
    "There are many different stock code patterns that don't follow the naming rule, i.e., containing 5-digit number only or 5-digit number plus one ending letter. \n",
    "\n",
    "Let's check the top four stock codes, which are related to more 100 transactions."
   ]
  },
  {
   "cell_type": "code",
   "execution_count": 55,
   "metadata": {
    "ExecuteTime": {
     "end_time": "2022-03-02T23:39:42.344546Z",
     "start_time": "2022-03-02T23:39:41.683756Z"
    }
   },
   "outputs": [
    {
     "data": {
      "text/plain": [
       "StockCode\n",
       "15056BL     [EDWARDIAN PARASOL BLACK]\n",
       "79323LP    [LIGHT PINK CHERRY LIGHTS]\n",
       "DOT                  [DOTCOM POSTAGE]\n",
       "M                            [Manual]\n",
       "Name: Description, dtype: object"
      ]
     },
     "execution_count": 55,
     "metadata": {},
     "output_type": "execute_result"
    }
   ],
   "source": [
    "# Top four abnormal stock codes\n",
    "top_4 = abnomal_sc_data.StockCode.value_counts()[:4].index\n",
    "# Check the description of the four codes\n",
    "retail[retail.StockCode.apply(lambda x: x in top_4)].groupby('StockCode').Description.unique()"
   ]
  },
  {
   "cell_type": "markdown",
   "metadata": {},
   "source": [
    "'15056BL' and '79323LP' represent normal products, while 'DOT' and 'M' do not."
   ]
  },
  {
   "cell_type": "code",
   "execution_count": 56,
   "metadata": {
    "ExecuteTime": {
     "end_time": "2022-03-02T23:39:42.357861Z",
     "start_time": "2022-03-02T23:39:42.347581Z"
    }
   },
   "outputs": [
    {
     "data": {
      "text/plain": [
       "0.004030029145153054"
      ]
     },
     "execution_count": 56,
     "metadata": {},
     "output_type": "execute_result"
    }
   ],
   "source": [
    "abnomal_sc_data.shape[0] / retail.shape[0]"
   ]
  },
  {
   "cell_type": "markdown",
   "metadata": {},
   "source": [
    "There are no more than 0.4% entries with abnormal stack code. To simplify, we will remove all the entries with abnormal stack code."
   ]
  },
  {
   "cell_type": "code",
   "execution_count": 57,
   "metadata": {
    "ExecuteTime": {
     "end_time": "2022-03-02T23:39:42.733949Z",
     "start_time": "2022-03-02T23:39:42.362844Z"
    }
   },
   "outputs": [
    {
     "data": {
      "text/plain": [
       "False"
      ]
     },
     "execution_count": 57,
     "metadata": {},
     "output_type": "execute_result"
    }
   ],
   "source": [
    "# Drop all the entries with abnormal code\n",
    "retail.drop(index=abnomal_sc_data.index, inplace=True)\n",
    "# Check the result\n",
    "# 4906 is the original number of unique codes\n",
    "retail.StockCode.nunique() == 4906 - len(abnomal_sc_list)"
   ]
  },
  {
   "cell_type": "markdown",
   "metadata": {},
   "source": [
    "## Save Files"
   ]
  },
  {
   "cell_type": "code",
   "execution_count": 58,
   "metadata": {
    "ExecuteTime": {
     "end_time": "2022-03-02T23:39:43.219611Z",
     "start_time": "2022-03-02T23:39:42.755708Z"
    }
   },
   "outputs": [
    {
     "name": "stdout",
     "output_type": "stream",
     "text": [
      "<class 'pandas.core.frame.DataFrame'>\n",
      "Int64Index: 899085 entries, 0 to 1041829\n",
      "Data columns (total 8 columns):\n",
      " #   Column       Non-Null Count   Dtype         \n",
      "---  ------       --------------   -----         \n",
      " 0   Invoice      899085 non-null  object        \n",
      " 1   StockCode    899085 non-null  object        \n",
      " 2   Description  899085 non-null  object        \n",
      " 3   Quantity     899085 non-null  int64         \n",
      " 4   InvoiceDate  899085 non-null  datetime64[ns]\n",
      " 5   Price        899085 non-null  float64       \n",
      " 6   CustomerID   899085 non-null  float64       \n",
      " 7   Revenue      899085 non-null  float64       \n",
      "dtypes: datetime64[ns](1), float64(3), int64(1), object(3)\n",
      "memory usage: 61.7+ MB\n"
     ]
    }
   ],
   "source": [
    "# The final dataset info\n",
    "retail.info()"
   ]
  },
  {
   "cell_type": "code",
   "execution_count": 60,
   "metadata": {
    "ExecuteTime": {
     "end_time": "2022-03-03T00:15:13.246334Z",
     "start_time": "2022-03-03T00:14:58.518518Z"
    }
   },
   "outputs": [],
   "source": [
    "# Save the processed data and rename the dateset\n",
    "filepath = 'ProcessedData/retail_df.csv'\n",
    "retail.to_csv(filepath, index=False, date_format='%Y-%m-%d')"
   ]
  },
  {
   "cell_type": "markdown",
   "metadata": {},
   "source": [
    "## Summary"
   ]
  },
  {
   "cell_type": "markdown",
   "metadata": {},
   "source": [
    "The on-line retail dataset is pretty clean. Several steps have been taken as followed:\n",
    "* Removed the transactions outside the UK\n",
    "* Removed all the transactions without description\n",
    "* Labeled the missing Customer ID as 0\n",
    "* Removed all the transactions happening before 12/01/2011\n",
    "* Removed all the transactions, of which quantity and price are negative or zero\n",
    "* Removed the detailed time information of transactions and kept the transaction date only\n",
    "* Explored the numeric values, including price, product quantity, and revenue, all of which are right-skewed.\n",
    "* Explored the products that have the same or similar stock codes and different description or have the same description different stack codes."
   ]
  }
 ],
 "metadata": {
  "hide_input": false,
  "kernelspec": {
   "display_name": "Python 3",
   "language": "python",
   "name": "python3"
  },
  "language_info": {
   "codemirror_mode": {
    "name": "ipython",
    "version": 3
   },
   "file_extension": ".py",
   "mimetype": "text/x-python",
   "name": "python",
   "nbconvert_exporter": "python",
   "pygments_lexer": "ipython3",
   "version": "3.8.3"
  },
  "toc": {
   "base_numbering": 1,
   "nav_menu": {},
   "number_sections": true,
   "sideBar": true,
   "skip_h1_title": false,
   "title_cell": "Table of Contents",
   "title_sidebar": "Contents",
   "toc_cell": true,
   "toc_position": {},
   "toc_section_display": true,
   "toc_window_display": true
  },
  "varInspector": {
   "cols": {
    "lenName": 16,
    "lenType": 16,
    "lenVar": 40
   },
   "kernels_config": {
    "python": {
     "delete_cmd_postfix": "",
     "delete_cmd_prefix": "del ",
     "library": "var_list.py",
     "varRefreshCmd": "print(var_dic_list())"
    },
    "r": {
     "delete_cmd_postfix": ") ",
     "delete_cmd_prefix": "rm(",
     "library": "var_list.r",
     "varRefreshCmd": "cat(var_dic_list()) "
    }
   },
   "types_to_exclude": [
    "module",
    "function",
    "builtin_function_or_method",
    "instance",
    "_Feature"
   ],
   "window_display": false
  }
 },
 "nbformat": 4,
 "nbformat_minor": 4
}
